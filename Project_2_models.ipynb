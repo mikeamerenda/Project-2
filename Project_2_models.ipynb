{
  "nbformat": 4,
  "nbformat_minor": 0,
  "metadata": {
    "colab": {
      "name": "Project 2 ",
      "provenance": [],
      "authorship_tag": "ABX9TyOwj0UhRqLY1ubodLwDg2Lh",
      "include_colab_link": true
    },
    "kernelspec": {
      "name": "python3",
      "display_name": "Python 3"
    },
    "language_info": {
      "name": "python"
    }
  },
  "cells": [
    {
      "cell_type": "markdown",
      "metadata": {
        "id": "view-in-github",
        "colab_type": "text"
      },
      "source": [
        "<a href=\"https://colab.research.google.com/github/mikeamerenda/Project-2/blob/main/Project_2_models.ipynb\" target=\"_parent\"><img src=\"https://colab.research.google.com/assets/colab-badge.svg\" alt=\"Open In Colab\"/></a>"
      ]
    },
    {
      "cell_type": "code",
      "metadata": {
        "id": "BQZ_s5Q11Q1P"
      },
      "source": [
        "# Import all libraries\n",
        "import matplotlib.pyplot as plt\n",
        "import pandas as pd\n",
        "import seaborn as sns\n",
        "import numpy as np"
      ],
      "execution_count": 130,
      "outputs": []
    },
    {
      "cell_type": "code",
      "metadata": {
        "colab": {
          "base_uri": "https://localhost:8080/",
          "height": 203
        },
        "id": "KPnMZ0My1XDa",
        "outputId": "9373955a-1975-411a-aa7d-65c1c59f4451"
      },
      "source": [
        "df= pd.read_csv('/content/heart.csv')\n",
        "df.head()"
      ],
      "execution_count": 131,
      "outputs": [
        {
          "output_type": "execute_result",
          "data": {
            "text/html": [
              "<div>\n",
              "<style scoped>\n",
              "    .dataframe tbody tr th:only-of-type {\n",
              "        vertical-align: middle;\n",
              "    }\n",
              "\n",
              "    .dataframe tbody tr th {\n",
              "        vertical-align: top;\n",
              "    }\n",
              "\n",
              "    .dataframe thead th {\n",
              "        text-align: right;\n",
              "    }\n",
              "</style>\n",
              "<table border=\"1\" class=\"dataframe\">\n",
              "  <thead>\n",
              "    <tr style=\"text-align: right;\">\n",
              "      <th></th>\n",
              "      <th>Age</th>\n",
              "      <th>Sex</th>\n",
              "      <th>ChestPainType</th>\n",
              "      <th>RestingBP</th>\n",
              "      <th>Cholesterol</th>\n",
              "      <th>FastingBS</th>\n",
              "      <th>RestingECG</th>\n",
              "      <th>MaxHR</th>\n",
              "      <th>ExerciseAngina</th>\n",
              "      <th>Oldpeak</th>\n",
              "      <th>ST_Slope</th>\n",
              "      <th>HeartDisease</th>\n",
              "    </tr>\n",
              "  </thead>\n",
              "  <tbody>\n",
              "    <tr>\n",
              "      <th>0</th>\n",
              "      <td>40</td>\n",
              "      <td>M</td>\n",
              "      <td>ATA</td>\n",
              "      <td>140</td>\n",
              "      <td>289</td>\n",
              "      <td>0</td>\n",
              "      <td>Normal</td>\n",
              "      <td>172</td>\n",
              "      <td>N</td>\n",
              "      <td>0.0</td>\n",
              "      <td>Up</td>\n",
              "      <td>0</td>\n",
              "    </tr>\n",
              "    <tr>\n",
              "      <th>1</th>\n",
              "      <td>49</td>\n",
              "      <td>F</td>\n",
              "      <td>NAP</td>\n",
              "      <td>160</td>\n",
              "      <td>180</td>\n",
              "      <td>0</td>\n",
              "      <td>Normal</td>\n",
              "      <td>156</td>\n",
              "      <td>N</td>\n",
              "      <td>1.0</td>\n",
              "      <td>Flat</td>\n",
              "      <td>1</td>\n",
              "    </tr>\n",
              "    <tr>\n",
              "      <th>2</th>\n",
              "      <td>37</td>\n",
              "      <td>M</td>\n",
              "      <td>ATA</td>\n",
              "      <td>130</td>\n",
              "      <td>283</td>\n",
              "      <td>0</td>\n",
              "      <td>ST</td>\n",
              "      <td>98</td>\n",
              "      <td>N</td>\n",
              "      <td>0.0</td>\n",
              "      <td>Up</td>\n",
              "      <td>0</td>\n",
              "    </tr>\n",
              "    <tr>\n",
              "      <th>3</th>\n",
              "      <td>48</td>\n",
              "      <td>F</td>\n",
              "      <td>ASY</td>\n",
              "      <td>138</td>\n",
              "      <td>214</td>\n",
              "      <td>0</td>\n",
              "      <td>Normal</td>\n",
              "      <td>108</td>\n",
              "      <td>Y</td>\n",
              "      <td>1.5</td>\n",
              "      <td>Flat</td>\n",
              "      <td>1</td>\n",
              "    </tr>\n",
              "    <tr>\n",
              "      <th>4</th>\n",
              "      <td>54</td>\n",
              "      <td>M</td>\n",
              "      <td>NAP</td>\n",
              "      <td>150</td>\n",
              "      <td>195</td>\n",
              "      <td>0</td>\n",
              "      <td>Normal</td>\n",
              "      <td>122</td>\n",
              "      <td>N</td>\n",
              "      <td>0.0</td>\n",
              "      <td>Up</td>\n",
              "      <td>0</td>\n",
              "    </tr>\n",
              "  </tbody>\n",
              "</table>\n",
              "</div>"
            ],
            "text/plain": [
              "   Age Sex ChestPainType  ...  Oldpeak  ST_Slope  HeartDisease\n",
              "0   40   M           ATA  ...      0.0        Up             0\n",
              "1   49   F           NAP  ...      1.0      Flat             1\n",
              "2   37   M           ATA  ...      0.0        Up             0\n",
              "3   48   F           ASY  ...      1.5      Flat             1\n",
              "4   54   M           NAP  ...      0.0        Up             0\n",
              "\n",
              "[5 rows x 12 columns]"
            ]
          },
          "metadata": {},
          "execution_count": 131
        }
      ]
    },
    {
      "cell_type": "code",
      "metadata": {
        "colab": {
          "base_uri": "https://localhost:8080/"
        },
        "id": "ziJV_mSs1b3Y",
        "outputId": "302afa93-6d90-4980-94a5-daa586cd4672"
      },
      "source": [
        "# checking all data\n",
        "df.info()"
      ],
      "execution_count": 132,
      "outputs": [
        {
          "output_type": "stream",
          "name": "stdout",
          "text": [
            "<class 'pandas.core.frame.DataFrame'>\n",
            "RangeIndex: 918 entries, 0 to 917\n",
            "Data columns (total 12 columns):\n",
            " #   Column          Non-Null Count  Dtype  \n",
            "---  ------          --------------  -----  \n",
            " 0   Age             918 non-null    int64  \n",
            " 1   Sex             918 non-null    object \n",
            " 2   ChestPainType   918 non-null    object \n",
            " 3   RestingBP       918 non-null    int64  \n",
            " 4   Cholesterol     918 non-null    int64  \n",
            " 5   FastingBS       918 non-null    int64  \n",
            " 6   RestingECG      918 non-null    object \n",
            " 7   MaxHR           918 non-null    int64  \n",
            " 8   ExerciseAngina  918 non-null    object \n",
            " 9   Oldpeak         918 non-null    float64\n",
            " 10  ST_Slope        918 non-null    object \n",
            " 11  HeartDisease    918 non-null    int64  \n",
            "dtypes: float64(1), int64(6), object(5)\n",
            "memory usage: 86.2+ KB\n"
          ]
        }
      ]
    },
    {
      "cell_type": "code",
      "metadata": {
        "colab": {
          "base_uri": "https://localhost:8080/"
        },
        "id": "hDrcbM5s1fjJ",
        "outputId": "731bf551-920f-4605-bda9-815f0b3cdbbd"
      },
      "source": [
        "# Checking for duplicates\n",
        "df.duplicated().any()"
      ],
      "execution_count": 133,
      "outputs": [
        {
          "output_type": "execute_result",
          "data": {
            "text/plain": [
              "False"
            ]
          },
          "metadata": {},
          "execution_count": 133
        }
      ]
    },
    {
      "cell_type": "markdown",
      "metadata": {
        "id": "IZOwrZOM1iT3"
      },
      "source": [
        "No duplicates were found in the dataset"
      ]
    },
    {
      "cell_type": "code",
      "metadata": {
        "colab": {
          "base_uri": "https://localhost:8080/"
        },
        "id": "--n9BeN91hoq",
        "outputId": "1af508b5-2c9b-436d-fd00-6c8ecce6f219"
      },
      "source": [
        "# Checking for any missing data\n",
        "df.isnull().sum()"
      ],
      "execution_count": 134,
      "outputs": [
        {
          "output_type": "execute_result",
          "data": {
            "text/plain": [
              "Age               0\n",
              "Sex               0\n",
              "ChestPainType     0\n",
              "RestingBP         0\n",
              "Cholesterol       0\n",
              "FastingBS         0\n",
              "RestingECG        0\n",
              "MaxHR             0\n",
              "ExerciseAngina    0\n",
              "Oldpeak           0\n",
              "ST_Slope          0\n",
              "HeartDisease      0\n",
              "dtype: int64"
            ]
          },
          "metadata": {},
          "execution_count": 134
        }
      ]
    },
    {
      "cell_type": "markdown",
      "metadata": {
        "id": "rn-zOHse1nv3"
      },
      "source": [
        "No data is missing from the data set"
      ]
    },
    {
      "cell_type": "code",
      "metadata": {
        "colab": {
          "base_uri": "https://localhost:8080/"
        },
        "id": "1L7eHPd91mvs",
        "outputId": "e41217a4-4539-46b0-d0c5-d6fdbd418e38"
      },
      "source": [
        "df.dtypes"
      ],
      "execution_count": 135,
      "outputs": [
        {
          "output_type": "execute_result",
          "data": {
            "text/plain": [
              "Age                 int64\n",
              "Sex                object\n",
              "ChestPainType      object\n",
              "RestingBP           int64\n",
              "Cholesterol         int64\n",
              "FastingBS           int64\n",
              "RestingECG         object\n",
              "MaxHR               int64\n",
              "ExerciseAngina     object\n",
              "Oldpeak           float64\n",
              "ST_Slope           object\n",
              "HeartDisease        int64\n",
              "dtype: object"
            ]
          },
          "metadata": {},
          "execution_count": 135
        }
      ]
    },
    {
      "cell_type": "code",
      "metadata": {
        "colab": {
          "base_uri": "https://localhost:8080/"
        },
        "id": "7_QDow-b18Gb",
        "outputId": "2def5f51-506d-4715-e001-0745b4c1351d"
      },
      "source": [
        "df['Sex'].value_counts()"
      ],
      "execution_count": 136,
      "outputs": [
        {
          "output_type": "execute_result",
          "data": {
            "text/plain": [
              "M    725\n",
              "F    193\n",
              "Name: Sex, dtype: int64"
            ]
          },
          "metadata": {},
          "execution_count": 136
        }
      ]
    },
    {
      "cell_type": "code",
      "metadata": {
        "colab": {
          "base_uri": "https://localhost:8080/"
        },
        "id": "sna8l-Tv2D-Z",
        "outputId": "62dfc381-1d81-44c5-89fa-013fcc08eb27"
      },
      "source": [
        "df['ChestPainType'].value_counts()"
      ],
      "execution_count": 137,
      "outputs": [
        {
          "output_type": "execute_result",
          "data": {
            "text/plain": [
              "ASY    496\n",
              "NAP    203\n",
              "ATA    173\n",
              "TA      46\n",
              "Name: ChestPainType, dtype: int64"
            ]
          },
          "metadata": {},
          "execution_count": 137
        }
      ]
    },
    {
      "cell_type": "code",
      "metadata": {
        "colab": {
          "base_uri": "https://localhost:8080/"
        },
        "id": "AB1mVdB72EVY",
        "outputId": "bd61dcdc-3659-44b2-d236-a3684ae4ebe1"
      },
      "source": [
        "df['RestingECG'].value_counts()"
      ],
      "execution_count": 138,
      "outputs": [
        {
          "output_type": "execute_result",
          "data": {
            "text/plain": [
              "Normal    552\n",
              "LVH       188\n",
              "ST        178\n",
              "Name: RestingECG, dtype: int64"
            ]
          },
          "metadata": {},
          "execution_count": 138
        }
      ]
    },
    {
      "cell_type": "code",
      "metadata": {
        "colab": {
          "base_uri": "https://localhost:8080/"
        },
        "id": "jB0ExEbI2EjA",
        "outputId": "ac1c263f-af16-4782-f050-a64ec880def0"
      },
      "source": [
        "df['ExerciseAngina'].value_counts()"
      ],
      "execution_count": 139,
      "outputs": [
        {
          "output_type": "execute_result",
          "data": {
            "text/plain": [
              "N    547\n",
              "Y    371\n",
              "Name: ExerciseAngina, dtype: int64"
            ]
          },
          "metadata": {},
          "execution_count": 139
        }
      ]
    },
    {
      "cell_type": "code",
      "metadata": {
        "colab": {
          "base_uri": "https://localhost:8080/"
        },
        "id": "Vfg9yCiJ2Sk9",
        "outputId": "6742c414-5a4d-4089-b31d-19da90eab7ef"
      },
      "source": [
        "df['ST_Slope'].value_counts()"
      ],
      "execution_count": 140,
      "outputs": [
        {
          "output_type": "execute_result",
          "data": {
            "text/plain": [
              "Flat    460\n",
              "Up      395\n",
              "Down     63\n",
              "Name: ST_Slope, dtype: int64"
            ]
          },
          "metadata": {},
          "execution_count": 140
        }
      ]
    },
    {
      "cell_type": "markdown",
      "metadata": {
        "id": "q7_IfuRw2uWy"
      },
      "source": [
        "No inconsitencies in any of the categorical data"
      ]
    },
    {
      "cell_type": "code",
      "metadata": {
        "colab": {
          "base_uri": "https://localhost:8080/",
          "height": 295
        },
        "id": "MR_oV7-d2SdV",
        "outputId": "2c7ccf43-c6f0-41b3-ca7d-bd2a19dda892"
      },
      "source": [
        "# Statistical analysis\n",
        "df.describe()"
      ],
      "execution_count": 141,
      "outputs": [
        {
          "output_type": "execute_result",
          "data": {
            "text/html": [
              "<div>\n",
              "<style scoped>\n",
              "    .dataframe tbody tr th:only-of-type {\n",
              "        vertical-align: middle;\n",
              "    }\n",
              "\n",
              "    .dataframe tbody tr th {\n",
              "        vertical-align: top;\n",
              "    }\n",
              "\n",
              "    .dataframe thead th {\n",
              "        text-align: right;\n",
              "    }\n",
              "</style>\n",
              "<table border=\"1\" class=\"dataframe\">\n",
              "  <thead>\n",
              "    <tr style=\"text-align: right;\">\n",
              "      <th></th>\n",
              "      <th>Age</th>\n",
              "      <th>RestingBP</th>\n",
              "      <th>Cholesterol</th>\n",
              "      <th>FastingBS</th>\n",
              "      <th>MaxHR</th>\n",
              "      <th>Oldpeak</th>\n",
              "      <th>HeartDisease</th>\n",
              "    </tr>\n",
              "  </thead>\n",
              "  <tbody>\n",
              "    <tr>\n",
              "      <th>count</th>\n",
              "      <td>918.000000</td>\n",
              "      <td>918.000000</td>\n",
              "      <td>918.000000</td>\n",
              "      <td>918.000000</td>\n",
              "      <td>918.000000</td>\n",
              "      <td>918.000000</td>\n",
              "      <td>918.000000</td>\n",
              "    </tr>\n",
              "    <tr>\n",
              "      <th>mean</th>\n",
              "      <td>53.510893</td>\n",
              "      <td>132.396514</td>\n",
              "      <td>198.799564</td>\n",
              "      <td>0.233115</td>\n",
              "      <td>136.809368</td>\n",
              "      <td>0.887364</td>\n",
              "      <td>0.553377</td>\n",
              "    </tr>\n",
              "    <tr>\n",
              "      <th>std</th>\n",
              "      <td>9.432617</td>\n",
              "      <td>18.514154</td>\n",
              "      <td>109.384145</td>\n",
              "      <td>0.423046</td>\n",
              "      <td>25.460334</td>\n",
              "      <td>1.066570</td>\n",
              "      <td>0.497414</td>\n",
              "    </tr>\n",
              "    <tr>\n",
              "      <th>min</th>\n",
              "      <td>28.000000</td>\n",
              "      <td>0.000000</td>\n",
              "      <td>0.000000</td>\n",
              "      <td>0.000000</td>\n",
              "      <td>60.000000</td>\n",
              "      <td>-2.600000</td>\n",
              "      <td>0.000000</td>\n",
              "    </tr>\n",
              "    <tr>\n",
              "      <th>25%</th>\n",
              "      <td>47.000000</td>\n",
              "      <td>120.000000</td>\n",
              "      <td>173.250000</td>\n",
              "      <td>0.000000</td>\n",
              "      <td>120.000000</td>\n",
              "      <td>0.000000</td>\n",
              "      <td>0.000000</td>\n",
              "    </tr>\n",
              "    <tr>\n",
              "      <th>50%</th>\n",
              "      <td>54.000000</td>\n",
              "      <td>130.000000</td>\n",
              "      <td>223.000000</td>\n",
              "      <td>0.000000</td>\n",
              "      <td>138.000000</td>\n",
              "      <td>0.600000</td>\n",
              "      <td>1.000000</td>\n",
              "    </tr>\n",
              "    <tr>\n",
              "      <th>75%</th>\n",
              "      <td>60.000000</td>\n",
              "      <td>140.000000</td>\n",
              "      <td>267.000000</td>\n",
              "      <td>0.000000</td>\n",
              "      <td>156.000000</td>\n",
              "      <td>1.500000</td>\n",
              "      <td>1.000000</td>\n",
              "    </tr>\n",
              "    <tr>\n",
              "      <th>max</th>\n",
              "      <td>77.000000</td>\n",
              "      <td>200.000000</td>\n",
              "      <td>603.000000</td>\n",
              "      <td>1.000000</td>\n",
              "      <td>202.000000</td>\n",
              "      <td>6.200000</td>\n",
              "      <td>1.000000</td>\n",
              "    </tr>\n",
              "  </tbody>\n",
              "</table>\n",
              "</div>"
            ],
            "text/plain": [
              "              Age   RestingBP  ...     Oldpeak  HeartDisease\n",
              "count  918.000000  918.000000  ...  918.000000    918.000000\n",
              "mean    53.510893  132.396514  ...    0.887364      0.553377\n",
              "std      9.432617   18.514154  ...    1.066570      0.497414\n",
              "min     28.000000    0.000000  ...   -2.600000      0.000000\n",
              "25%     47.000000  120.000000  ...    0.000000      0.000000\n",
              "50%     54.000000  130.000000  ...    0.600000      1.000000\n",
              "75%     60.000000  140.000000  ...    1.500000      1.000000\n",
              "max     77.000000  200.000000  ...    6.200000      1.000000\n",
              "\n",
              "[8 rows x 7 columns]"
            ]
          },
          "metadata": {},
          "execution_count": 141
        }
      ]
    },
    {
      "cell_type": "markdown",
      "metadata": {
        "id": "9jMFfDgv3KLk"
      },
      "source": [
        "Shows minimun cholesteral and RestingBP have a minimun of 0 which seems unusual so we will explore this data and see if it needs to be dropped."
      ]
    },
    {
      "cell_type": "code",
      "metadata": {
        "colab": {
          "base_uri": "https://localhost:8080/",
          "height": 417
        },
        "id": "Ll8ItjfA3BD7",
        "outputId": "0e616fad-7b45-49b2-ef5f-3b16e8574567"
      },
      "source": [
        "df.loc[df['Cholesterol']== 0,:]"
      ],
      "execution_count": 142,
      "outputs": [
        {
          "output_type": "execute_result",
          "data": {
            "text/html": [
              "<div>\n",
              "<style scoped>\n",
              "    .dataframe tbody tr th:only-of-type {\n",
              "        vertical-align: middle;\n",
              "    }\n",
              "\n",
              "    .dataframe tbody tr th {\n",
              "        vertical-align: top;\n",
              "    }\n",
              "\n",
              "    .dataframe thead th {\n",
              "        text-align: right;\n",
              "    }\n",
              "</style>\n",
              "<table border=\"1\" class=\"dataframe\">\n",
              "  <thead>\n",
              "    <tr style=\"text-align: right;\">\n",
              "      <th></th>\n",
              "      <th>Age</th>\n",
              "      <th>Sex</th>\n",
              "      <th>ChestPainType</th>\n",
              "      <th>RestingBP</th>\n",
              "      <th>Cholesterol</th>\n",
              "      <th>FastingBS</th>\n",
              "      <th>RestingECG</th>\n",
              "      <th>MaxHR</th>\n",
              "      <th>ExerciseAngina</th>\n",
              "      <th>Oldpeak</th>\n",
              "      <th>ST_Slope</th>\n",
              "      <th>HeartDisease</th>\n",
              "    </tr>\n",
              "  </thead>\n",
              "  <tbody>\n",
              "    <tr>\n",
              "      <th>293</th>\n",
              "      <td>65</td>\n",
              "      <td>M</td>\n",
              "      <td>ASY</td>\n",
              "      <td>115</td>\n",
              "      <td>0</td>\n",
              "      <td>0</td>\n",
              "      <td>Normal</td>\n",
              "      <td>93</td>\n",
              "      <td>Y</td>\n",
              "      <td>0.0</td>\n",
              "      <td>Flat</td>\n",
              "      <td>1</td>\n",
              "    </tr>\n",
              "    <tr>\n",
              "      <th>294</th>\n",
              "      <td>32</td>\n",
              "      <td>M</td>\n",
              "      <td>TA</td>\n",
              "      <td>95</td>\n",
              "      <td>0</td>\n",
              "      <td>1</td>\n",
              "      <td>Normal</td>\n",
              "      <td>127</td>\n",
              "      <td>N</td>\n",
              "      <td>0.7</td>\n",
              "      <td>Up</td>\n",
              "      <td>1</td>\n",
              "    </tr>\n",
              "    <tr>\n",
              "      <th>295</th>\n",
              "      <td>61</td>\n",
              "      <td>M</td>\n",
              "      <td>ASY</td>\n",
              "      <td>105</td>\n",
              "      <td>0</td>\n",
              "      <td>1</td>\n",
              "      <td>Normal</td>\n",
              "      <td>110</td>\n",
              "      <td>Y</td>\n",
              "      <td>1.5</td>\n",
              "      <td>Up</td>\n",
              "      <td>1</td>\n",
              "    </tr>\n",
              "    <tr>\n",
              "      <th>296</th>\n",
              "      <td>50</td>\n",
              "      <td>M</td>\n",
              "      <td>ASY</td>\n",
              "      <td>145</td>\n",
              "      <td>0</td>\n",
              "      <td>1</td>\n",
              "      <td>Normal</td>\n",
              "      <td>139</td>\n",
              "      <td>Y</td>\n",
              "      <td>0.7</td>\n",
              "      <td>Flat</td>\n",
              "      <td>1</td>\n",
              "    </tr>\n",
              "    <tr>\n",
              "      <th>297</th>\n",
              "      <td>57</td>\n",
              "      <td>M</td>\n",
              "      <td>ASY</td>\n",
              "      <td>110</td>\n",
              "      <td>0</td>\n",
              "      <td>1</td>\n",
              "      <td>ST</td>\n",
              "      <td>131</td>\n",
              "      <td>Y</td>\n",
              "      <td>1.4</td>\n",
              "      <td>Up</td>\n",
              "      <td>1</td>\n",
              "    </tr>\n",
              "    <tr>\n",
              "      <th>...</th>\n",
              "      <td>...</td>\n",
              "      <td>...</td>\n",
              "      <td>...</td>\n",
              "      <td>...</td>\n",
              "      <td>...</td>\n",
              "      <td>...</td>\n",
              "      <td>...</td>\n",
              "      <td>...</td>\n",
              "      <td>...</td>\n",
              "      <td>...</td>\n",
              "      <td>...</td>\n",
              "      <td>...</td>\n",
              "    </tr>\n",
              "    <tr>\n",
              "      <th>514</th>\n",
              "      <td>43</td>\n",
              "      <td>M</td>\n",
              "      <td>ASY</td>\n",
              "      <td>122</td>\n",
              "      <td>0</td>\n",
              "      <td>0</td>\n",
              "      <td>Normal</td>\n",
              "      <td>120</td>\n",
              "      <td>N</td>\n",
              "      <td>0.5</td>\n",
              "      <td>Up</td>\n",
              "      <td>1</td>\n",
              "    </tr>\n",
              "    <tr>\n",
              "      <th>515</th>\n",
              "      <td>63</td>\n",
              "      <td>M</td>\n",
              "      <td>NAP</td>\n",
              "      <td>130</td>\n",
              "      <td>0</td>\n",
              "      <td>1</td>\n",
              "      <td>ST</td>\n",
              "      <td>160</td>\n",
              "      <td>N</td>\n",
              "      <td>3.0</td>\n",
              "      <td>Flat</td>\n",
              "      <td>0</td>\n",
              "    </tr>\n",
              "    <tr>\n",
              "      <th>518</th>\n",
              "      <td>48</td>\n",
              "      <td>M</td>\n",
              "      <td>NAP</td>\n",
              "      <td>102</td>\n",
              "      <td>0</td>\n",
              "      <td>1</td>\n",
              "      <td>ST</td>\n",
              "      <td>110</td>\n",
              "      <td>Y</td>\n",
              "      <td>1.0</td>\n",
              "      <td>Down</td>\n",
              "      <td>1</td>\n",
              "    </tr>\n",
              "    <tr>\n",
              "      <th>535</th>\n",
              "      <td>56</td>\n",
              "      <td>M</td>\n",
              "      <td>ASY</td>\n",
              "      <td>130</td>\n",
              "      <td>0</td>\n",
              "      <td>0</td>\n",
              "      <td>LVH</td>\n",
              "      <td>122</td>\n",
              "      <td>Y</td>\n",
              "      <td>1.0</td>\n",
              "      <td>Flat</td>\n",
              "      <td>1</td>\n",
              "    </tr>\n",
              "    <tr>\n",
              "      <th>536</th>\n",
              "      <td>62</td>\n",
              "      <td>M</td>\n",
              "      <td>NAP</td>\n",
              "      <td>133</td>\n",
              "      <td>0</td>\n",
              "      <td>1</td>\n",
              "      <td>ST</td>\n",
              "      <td>119</td>\n",
              "      <td>Y</td>\n",
              "      <td>1.2</td>\n",
              "      <td>Flat</td>\n",
              "      <td>1</td>\n",
              "    </tr>\n",
              "  </tbody>\n",
              "</table>\n",
              "<p>172 rows × 12 columns</p>\n",
              "</div>"
            ],
            "text/plain": [
              "     Age Sex ChestPainType  ...  Oldpeak  ST_Slope  HeartDisease\n",
              "293   65   M           ASY  ...      0.0      Flat             1\n",
              "294   32   M            TA  ...      0.7        Up             1\n",
              "295   61   M           ASY  ...      1.5        Up             1\n",
              "296   50   M           ASY  ...      0.7      Flat             1\n",
              "297   57   M           ASY  ...      1.4        Up             1\n",
              "..   ...  ..           ...  ...      ...       ...           ...\n",
              "514   43   M           ASY  ...      0.5        Up             1\n",
              "515   63   M           NAP  ...      3.0      Flat             0\n",
              "518   48   M           NAP  ...      1.0      Down             1\n",
              "535   56   M           ASY  ...      1.0      Flat             1\n",
              "536   62   M           NAP  ...      1.2      Flat             1\n",
              "\n",
              "[172 rows x 12 columns]"
            ]
          },
          "metadata": {},
          "execution_count": 142
        }
      ]
    },
    {
      "cell_type": "code",
      "metadata": {
        "colab": {
          "base_uri": "https://localhost:8080/"
        },
        "id": "oJByuFZ23cuI",
        "outputId": "061bdbf6-12d4-42c1-b825-4a8aceafa0b0"
      },
      "source": [
        "df['Cholesterol'].value_counts()"
      ],
      "execution_count": 143,
      "outputs": [
        {
          "output_type": "execute_result",
          "data": {
            "text/plain": [
              "0      172\n",
              "254     11\n",
              "223     10\n",
              "220     10\n",
              "230      9\n",
              "      ... \n",
              "355      1\n",
              "354      1\n",
              "353      1\n",
              "349      1\n",
              "603      1\n",
              "Name: Cholesterol, Length: 222, dtype: int64"
            ]
          },
          "metadata": {},
          "execution_count": 143
        }
      ]
    },
    {
      "cell_type": "markdown",
      "metadata": {
        "id": "sLsctA9o3zDs"
      },
      "source": [
        "This shows that their are 172 rows of data with a 0 for cholesteral since that is a large number of missed data I am going to drop the column for cholesteral since a large amount is incorrect and shows 0"
      ]
    },
    {
      "cell_type": "code",
      "metadata": {
        "colab": {
          "base_uri": "https://localhost:8080/",
          "height": 203
        },
        "id": "SoGseIwg3kjZ",
        "outputId": "d18790b7-d674-4225-e2e5-a0350c1ce664"
      },
      "source": [
        "# We will drop the Cholesterol column \n",
        "df.drop(columns=['Cholesterol',], inplace=True)\n",
        "df.head()"
      ],
      "execution_count": 144,
      "outputs": [
        {
          "output_type": "execute_result",
          "data": {
            "text/html": [
              "<div>\n",
              "<style scoped>\n",
              "    .dataframe tbody tr th:only-of-type {\n",
              "        vertical-align: middle;\n",
              "    }\n",
              "\n",
              "    .dataframe tbody tr th {\n",
              "        vertical-align: top;\n",
              "    }\n",
              "\n",
              "    .dataframe thead th {\n",
              "        text-align: right;\n",
              "    }\n",
              "</style>\n",
              "<table border=\"1\" class=\"dataframe\">\n",
              "  <thead>\n",
              "    <tr style=\"text-align: right;\">\n",
              "      <th></th>\n",
              "      <th>Age</th>\n",
              "      <th>Sex</th>\n",
              "      <th>ChestPainType</th>\n",
              "      <th>RestingBP</th>\n",
              "      <th>FastingBS</th>\n",
              "      <th>RestingECG</th>\n",
              "      <th>MaxHR</th>\n",
              "      <th>ExerciseAngina</th>\n",
              "      <th>Oldpeak</th>\n",
              "      <th>ST_Slope</th>\n",
              "      <th>HeartDisease</th>\n",
              "    </tr>\n",
              "  </thead>\n",
              "  <tbody>\n",
              "    <tr>\n",
              "      <th>0</th>\n",
              "      <td>40</td>\n",
              "      <td>M</td>\n",
              "      <td>ATA</td>\n",
              "      <td>140</td>\n",
              "      <td>0</td>\n",
              "      <td>Normal</td>\n",
              "      <td>172</td>\n",
              "      <td>N</td>\n",
              "      <td>0.0</td>\n",
              "      <td>Up</td>\n",
              "      <td>0</td>\n",
              "    </tr>\n",
              "    <tr>\n",
              "      <th>1</th>\n",
              "      <td>49</td>\n",
              "      <td>F</td>\n",
              "      <td>NAP</td>\n",
              "      <td>160</td>\n",
              "      <td>0</td>\n",
              "      <td>Normal</td>\n",
              "      <td>156</td>\n",
              "      <td>N</td>\n",
              "      <td>1.0</td>\n",
              "      <td>Flat</td>\n",
              "      <td>1</td>\n",
              "    </tr>\n",
              "    <tr>\n",
              "      <th>2</th>\n",
              "      <td>37</td>\n",
              "      <td>M</td>\n",
              "      <td>ATA</td>\n",
              "      <td>130</td>\n",
              "      <td>0</td>\n",
              "      <td>ST</td>\n",
              "      <td>98</td>\n",
              "      <td>N</td>\n",
              "      <td>0.0</td>\n",
              "      <td>Up</td>\n",
              "      <td>0</td>\n",
              "    </tr>\n",
              "    <tr>\n",
              "      <th>3</th>\n",
              "      <td>48</td>\n",
              "      <td>F</td>\n",
              "      <td>ASY</td>\n",
              "      <td>138</td>\n",
              "      <td>0</td>\n",
              "      <td>Normal</td>\n",
              "      <td>108</td>\n",
              "      <td>Y</td>\n",
              "      <td>1.5</td>\n",
              "      <td>Flat</td>\n",
              "      <td>1</td>\n",
              "    </tr>\n",
              "    <tr>\n",
              "      <th>4</th>\n",
              "      <td>54</td>\n",
              "      <td>M</td>\n",
              "      <td>NAP</td>\n",
              "      <td>150</td>\n",
              "      <td>0</td>\n",
              "      <td>Normal</td>\n",
              "      <td>122</td>\n",
              "      <td>N</td>\n",
              "      <td>0.0</td>\n",
              "      <td>Up</td>\n",
              "      <td>0</td>\n",
              "    </tr>\n",
              "  </tbody>\n",
              "</table>\n",
              "</div>"
            ],
            "text/plain": [
              "   Age Sex ChestPainType  ...  Oldpeak  ST_Slope HeartDisease\n",
              "0   40   M           ATA  ...      0.0        Up            0\n",
              "1   49   F           NAP  ...      1.0      Flat            1\n",
              "2   37   M           ATA  ...      0.0        Up            0\n",
              "3   48   F           ASY  ...      1.5      Flat            1\n",
              "4   54   M           NAP  ...      0.0        Up            0\n",
              "\n",
              "[5 rows x 11 columns]"
            ]
          },
          "metadata": {},
          "execution_count": 144
        }
      ]
    },
    {
      "cell_type": "code",
      "metadata": {
        "colab": {
          "base_uri": "https://localhost:8080/",
          "height": 80
        },
        "id": "TBVa7Oib4VMs",
        "outputId": "4bb9a121-1346-4635-e6c5-056bbb0548b4"
      },
      "source": [
        "df.loc[df['RestingBP']== 0,:]"
      ],
      "execution_count": 145,
      "outputs": [
        {
          "output_type": "execute_result",
          "data": {
            "text/html": [
              "<div>\n",
              "<style scoped>\n",
              "    .dataframe tbody tr th:only-of-type {\n",
              "        vertical-align: middle;\n",
              "    }\n",
              "\n",
              "    .dataframe tbody tr th {\n",
              "        vertical-align: top;\n",
              "    }\n",
              "\n",
              "    .dataframe thead th {\n",
              "        text-align: right;\n",
              "    }\n",
              "</style>\n",
              "<table border=\"1\" class=\"dataframe\">\n",
              "  <thead>\n",
              "    <tr style=\"text-align: right;\">\n",
              "      <th></th>\n",
              "      <th>Age</th>\n",
              "      <th>Sex</th>\n",
              "      <th>ChestPainType</th>\n",
              "      <th>RestingBP</th>\n",
              "      <th>FastingBS</th>\n",
              "      <th>RestingECG</th>\n",
              "      <th>MaxHR</th>\n",
              "      <th>ExerciseAngina</th>\n",
              "      <th>Oldpeak</th>\n",
              "      <th>ST_Slope</th>\n",
              "      <th>HeartDisease</th>\n",
              "    </tr>\n",
              "  </thead>\n",
              "  <tbody>\n",
              "    <tr>\n",
              "      <th>449</th>\n",
              "      <td>55</td>\n",
              "      <td>M</td>\n",
              "      <td>NAP</td>\n",
              "      <td>0</td>\n",
              "      <td>0</td>\n",
              "      <td>Normal</td>\n",
              "      <td>155</td>\n",
              "      <td>N</td>\n",
              "      <td>1.5</td>\n",
              "      <td>Flat</td>\n",
              "      <td>1</td>\n",
              "    </tr>\n",
              "  </tbody>\n",
              "</table>\n",
              "</div>"
            ],
            "text/plain": [
              "     Age Sex ChestPainType  ...  Oldpeak  ST_Slope HeartDisease\n",
              "449   55   M           NAP  ...      1.5      Flat            1\n",
              "\n",
              "[1 rows x 11 columns]"
            ]
          },
          "metadata": {},
          "execution_count": 145
        }
      ]
    },
    {
      "cell_type": "markdown",
      "metadata": {
        "id": "hBV0DAo54acY"
      },
      "source": [
        "We will drop this row are it shows the RestingBP as 0"
      ]
    },
    {
      "cell_type": "code",
      "metadata": {
        "id": "Z0NXbKJ54ZL6"
      },
      "source": [
        "# Dropping Row 449\n",
        "df= df.drop(index = 449)"
      ],
      "execution_count": 146,
      "outputs": []
    },
    {
      "cell_type": "code",
      "metadata": {
        "colab": {
          "base_uri": "https://localhost:8080/"
        },
        "id": "ftopz02N41uD",
        "outputId": "21845c30-b196-4064-970c-12e0d411fe13"
      },
      "source": [
        "len(df)"
      ],
      "execution_count": 147,
      "outputs": [
        {
          "output_type": "execute_result",
          "data": {
            "text/plain": [
              "917"
            ]
          },
          "metadata": {},
          "execution_count": 147
        }
      ]
    },
    {
      "cell_type": "code",
      "metadata": {
        "colab": {
          "base_uri": "https://localhost:8080/"
        },
        "id": "-l_rl99d5NPR",
        "outputId": "1e6df146-8ee5-4dd1-c208-71426b68a935"
      },
      "source": [
        "df['FastingBS'].value_counts()"
      ],
      "execution_count": 148,
      "outputs": [
        {
          "output_type": "execute_result",
          "data": {
            "text/plain": [
              "0    703\n",
              "1    214\n",
              "Name: FastingBS, dtype: int64"
            ]
          },
          "metadata": {},
          "execution_count": 148
        }
      ]
    },
    {
      "cell_type": "code",
      "metadata": {
        "colab": {
          "base_uri": "https://localhost:8080/",
          "height": 295
        },
        "id": "ELxf3ssd43Sh",
        "outputId": "a18df710-ed9b-47dd-c149-30276c2a95ad"
      },
      "source": [
        "df.describe()"
      ],
      "execution_count": 149,
      "outputs": [
        {
          "output_type": "execute_result",
          "data": {
            "text/html": [
              "<div>\n",
              "<style scoped>\n",
              "    .dataframe tbody tr th:only-of-type {\n",
              "        vertical-align: middle;\n",
              "    }\n",
              "\n",
              "    .dataframe tbody tr th {\n",
              "        vertical-align: top;\n",
              "    }\n",
              "\n",
              "    .dataframe thead th {\n",
              "        text-align: right;\n",
              "    }\n",
              "</style>\n",
              "<table border=\"1\" class=\"dataframe\">\n",
              "  <thead>\n",
              "    <tr style=\"text-align: right;\">\n",
              "      <th></th>\n",
              "      <th>Age</th>\n",
              "      <th>RestingBP</th>\n",
              "      <th>FastingBS</th>\n",
              "      <th>MaxHR</th>\n",
              "      <th>Oldpeak</th>\n",
              "      <th>HeartDisease</th>\n",
              "    </tr>\n",
              "  </thead>\n",
              "  <tbody>\n",
              "    <tr>\n",
              "      <th>count</th>\n",
              "      <td>917.000000</td>\n",
              "      <td>917.000000</td>\n",
              "      <td>917.000000</td>\n",
              "      <td>917.000000</td>\n",
              "      <td>917.000000</td>\n",
              "      <td>917.000000</td>\n",
              "    </tr>\n",
              "    <tr>\n",
              "      <th>mean</th>\n",
              "      <td>53.509269</td>\n",
              "      <td>132.540894</td>\n",
              "      <td>0.233370</td>\n",
              "      <td>136.789531</td>\n",
              "      <td>0.886696</td>\n",
              "      <td>0.552890</td>\n",
              "    </tr>\n",
              "    <tr>\n",
              "      <th>std</th>\n",
              "      <td>9.437636</td>\n",
              "      <td>17.999749</td>\n",
              "      <td>0.423206</td>\n",
              "      <td>25.467129</td>\n",
              "      <td>1.066960</td>\n",
              "      <td>0.497466</td>\n",
              "    </tr>\n",
              "    <tr>\n",
              "      <th>min</th>\n",
              "      <td>28.000000</td>\n",
              "      <td>80.000000</td>\n",
              "      <td>0.000000</td>\n",
              "      <td>60.000000</td>\n",
              "      <td>-2.600000</td>\n",
              "      <td>0.000000</td>\n",
              "    </tr>\n",
              "    <tr>\n",
              "      <th>25%</th>\n",
              "      <td>47.000000</td>\n",
              "      <td>120.000000</td>\n",
              "      <td>0.000000</td>\n",
              "      <td>120.000000</td>\n",
              "      <td>0.000000</td>\n",
              "      <td>0.000000</td>\n",
              "    </tr>\n",
              "    <tr>\n",
              "      <th>50%</th>\n",
              "      <td>54.000000</td>\n",
              "      <td>130.000000</td>\n",
              "      <td>0.000000</td>\n",
              "      <td>138.000000</td>\n",
              "      <td>0.600000</td>\n",
              "      <td>1.000000</td>\n",
              "    </tr>\n",
              "    <tr>\n",
              "      <th>75%</th>\n",
              "      <td>60.000000</td>\n",
              "      <td>140.000000</td>\n",
              "      <td>0.000000</td>\n",
              "      <td>156.000000</td>\n",
              "      <td>1.500000</td>\n",
              "      <td>1.000000</td>\n",
              "    </tr>\n",
              "    <tr>\n",
              "      <th>max</th>\n",
              "      <td>77.000000</td>\n",
              "      <td>200.000000</td>\n",
              "      <td>1.000000</td>\n",
              "      <td>202.000000</td>\n",
              "      <td>6.200000</td>\n",
              "      <td>1.000000</td>\n",
              "    </tr>\n",
              "  </tbody>\n",
              "</table>\n",
              "</div>"
            ],
            "text/plain": [
              "              Age   RestingBP   FastingBS       MaxHR     Oldpeak  HeartDisease\n",
              "count  917.000000  917.000000  917.000000  917.000000  917.000000    917.000000\n",
              "mean    53.509269  132.540894    0.233370  136.789531    0.886696      0.552890\n",
              "std      9.437636   17.999749    0.423206   25.467129    1.066960      0.497466\n",
              "min     28.000000   80.000000    0.000000   60.000000   -2.600000      0.000000\n",
              "25%     47.000000  120.000000    0.000000  120.000000    0.000000      0.000000\n",
              "50%     54.000000  130.000000    0.000000  138.000000    0.600000      1.000000\n",
              "75%     60.000000  140.000000    0.000000  156.000000    1.500000      1.000000\n",
              "max     77.000000  200.000000    1.000000  202.000000    6.200000      1.000000"
            ]
          },
          "metadata": {},
          "execution_count": 149
        }
      ]
    },
    {
      "cell_type": "markdown",
      "metadata": {
        "id": "Pwi1oylz6KAS"
      },
      "source": [
        "Visualizations of Catergorical Variables"
      ]
    },
    {
      "cell_type": "code",
      "metadata": {
        "colab": {
          "base_uri": "https://localhost:8080/",
          "height": 294
        },
        "id": "AKTD92yK6I9G",
        "outputId": "60cca247-4105-4627-9084-f9111a606dfc"
      },
      "source": [
        "df['Sex'].value_counts().plot(kind = 'bar');\n",
        "plt.xlabel('Sex')\n",
        "plt.ylabel('Amount')\n",
        "plt.title('Amount of each Gender in  our dataset');"
      ],
      "execution_count": 150,
      "outputs": [
        {
          "output_type": "display_data",
          "data": {
            "image/png": "[encoded data removed]",
            "text/plain": [
              "<Figure size 432x288 with 1 Axes>"
            ]
          },
          "metadata": {
            "needs_background": "light"
          }
        }
      ]
    },
    {
      "cell_type": "markdown",
      "metadata": {
        "id": "2Zz1G2A76wY7"
      },
      "source": [
        "We have more Males than Females in our Data"
      ]
    },
    {
      "cell_type": "code",
      "metadata": {
        "colab": {
          "base_uri": "https://localhost:8080/",
          "height": 306
        },
        "id": "6y50P_aT6SE4",
        "outputId": "98695bcc-038f-46fc-b907-6bc7b7d3ffbe"
      },
      "source": [
        "df['ChestPainType'].value_counts().plot(kind = 'bar');\n",
        "plt.xlabel('ChestPainType')\n",
        "plt.ylabel('Amount')\n",
        "plt.title('Amount of each Chest Pain Type in  our dataset');"
      ],
      "execution_count": 151,
      "outputs": [
        {
          "output_type": "display_data",
          "data": {
            "image/png": "[encoded data removed]",
            "text/plain": [
              "<Figure size 432x288 with 1 Axes>"
            ]
          },
          "metadata": {
            "needs_background": "light"
          }
        }
      ]
    },
    {
      "cell_type": "markdown",
      "metadata": {
        "id": "LD7V2oXJ6yh2"
      },
      "source": [
        "A large group of people fall under ASY for the type of chest pain they are having "
      ]
    },
    {
      "cell_type": "code",
      "metadata": {
        "colab": {
          "base_uri": "https://localhost:8080/",
          "height": 321
        },
        "id": "zlAXbKR56U0-",
        "outputId": "6c60e34b-949b-4dc9-98b6-a19c360d0314"
      },
      "source": [
        "df['RestingECG'].value_counts().plot(kind = 'bar');\n",
        "plt.xlabel('RestingECG')\n",
        "plt.ylabel('Amount')\n",
        "plt.title('Amount of each RestingECG Type in  our dataset');"
      ],
      "execution_count": 152,
      "outputs": [
        {
          "output_type": "display_data",
          "data": {
            "image/png": "[encoded data removed]",
            "text/plain": [
              "<Figure size 432x288 with 1 Axes>"
            ]
          },
          "metadata": {
            "needs_background": "light"
          }
        }
      ]
    },
    {
      "cell_type": "markdown",
      "metadata": {
        "id": "X_gPdOji69rh"
      },
      "source": [
        "A majority of people have Normal RestingECG in our data"
      ]
    },
    {
      "cell_type": "code",
      "metadata": {
        "colab": {
          "base_uri": "https://localhost:8080/",
          "height": 293
        },
        "id": "bSkr5WWo6ZOx",
        "outputId": "329ed90a-a8a1-4cd6-98eb-0ca60ca3b303"
      },
      "source": [
        "df['ExerciseAngina'].value_counts().plot(kind = 'bar');\t\n",
        "plt.xlabel('ExerciseAngina')\n",
        "plt.ylabel('Amount')\n",
        "plt.title('Yes or No ExerciseAngina');"
      ],
      "execution_count": 153,
      "outputs": [
        {
          "output_type": "display_data",
          "data": {
            "image/png": "[encoded data removed]",
            "text/plain": [
              "<Figure size 432x288 with 1 Axes>"
            ]
          },
          "metadata": {
            "needs_background": "light"
          }
        }
      ]
    },
    {
      "cell_type": "markdown",
      "metadata": {
        "id": "zgVW0KWT7Idz"
      },
      "source": [
        "More poeople do not have Exercise Enduced Angina in our dataset"
      ]
    },
    {
      "cell_type": "code",
      "metadata": {
        "colab": {
          "base_uri": "https://localhost:8080/",
          "height": 314
        },
        "id": "mu-aKZs26gEU",
        "outputId": "b2b7b0fb-1644-4120-b56d-aca5950e05e2"
      },
      "source": [
        "df['ST_Slope'].value_counts().plot(kind = 'bar');\t\n",
        "plt.xlabel('ST_Slope')\n",
        "plt.ylabel('Amount')\n",
        "plt.title('Amount of each ST Slope Type in  our dataset');"
      ],
      "execution_count": 154,
      "outputs": [
        {
          "output_type": "display_data",
          "data": {
            "image/png": "[encoded data removed]",
            "text/plain": [
              "<Figure size 432x288 with 1 Axes>"
            ]
          },
          "metadata": {
            "needs_background": "light"
          }
        }
      ]
    },
    {
      "cell_type": "markdown",
      "metadata": {
        "id": "k875fYoT7VBF"
      },
      "source": [
        "Majority of the data shows Flat or Up for the St Slope where only a few show down"
      ]
    },
    {
      "cell_type": "markdown",
      "metadata": {
        "id": "H0fB-PVZ9c0T"
      },
      "source": [
        "Creating histograms and boxplots to visualize univariate distributions of numerical variables"
      ]
    },
    {
      "cell_type": "code",
      "metadata": {
        "colab": {
          "base_uri": "https://localhost:8080/",
          "height": 265
        },
        "id": "pK_y4cNk7gO7",
        "outputId": "99bb29cf-d4a3-4308-ca7f-276979e1135c"
      },
      "source": [
        "df.boxplot(column = 'Age');"
      ],
      "execution_count": 155,
      "outputs": [
        {
          "output_type": "display_data",
          "data": {
            "image/png": "[encoded data removed]",
            "text/plain": [
              "<Figure size 432x288 with 1 Axes>"
            ]
          },
          "metadata": {
            "needs_background": "light"
          }
        }
      ]
    },
    {
      "cell_type": "code",
      "metadata": {
        "colab": {
          "base_uri": "https://localhost:8080/",
          "height": 265
        },
        "id": "OdD_W1BZ9MgZ",
        "outputId": "8eeae01c-c5bf-47ff-b211-0e7091d51998"
      },
      "source": [
        "df['Age'].hist();"
      ],
      "execution_count": 156,
      "outputs": [
        {
          "output_type": "display_data",
          "data": {
            "image/png": "[encoded data removed]",
            "text/plain": [
              "<Figure size 432x288 with 1 Axes>"
            ]
          },
          "metadata": {
            "needs_background": "light"
          }
        }
      ]
    },
    {
      "cell_type": "markdown",
      "metadata": {
        "id": "ZvldW80N9jqJ"
      },
      "source": [
        "There are no outliers for Age in our distribution The highest points are in the 50-60 age range but they seem reasonable"
      ]
    },
    {
      "cell_type": "code",
      "metadata": {
        "colab": {
          "base_uri": "https://localhost:8080/",
          "height": 265
        },
        "id": "7q8dzXTG9gUP",
        "outputId": "01aa381a-3777-4e26-a789-1fd92d1512ae"
      },
      "source": [
        "df.boxplot(column = 'RestingBP');"
      ],
      "execution_count": 157,
      "outputs": [
        {
          "output_type": "display_data",
          "data": {
            "image/png": "[encoded data removed]",
            "text/plain": [
              "<Figure size 432x288 with 1 Axes>"
            ]
          },
          "metadata": {
            "needs_background": "light"
          }
        }
      ]
    },
    {
      "cell_type": "code",
      "metadata": {
        "colab": {
          "base_uri": "https://localhost:8080/",
          "height": 265
        },
        "id": "NOxNxFp59oyE",
        "outputId": "8292212d-ef0e-43d9-8a32-b284418833e5"
      },
      "source": [
        "df['RestingBP'].hist();"
      ],
      "execution_count": 158,
      "outputs": [
        {
          "output_type": "display_data",
          "data": {
            "image/png": "[encoded data removed]",
            "text/plain": [
              "<Figure size 432x288 with 1 Axes>"
            ]
          },
          "metadata": {
            "needs_background": "light"
          }
        }
      ]
    },
    {
      "cell_type": "markdown",
      "metadata": {
        "id": "MNZVi_58-Lsk"
      },
      "source": [
        "There are a few outliers for RestingBP at the high end, but they seem possible. The RestingBP is skewed (far more data points in the middle)"
      ]
    },
    {
      "cell_type": "code",
      "metadata": {
        "colab": {
          "base_uri": "https://localhost:8080/",
          "height": 265
        },
        "id": "JtnFabaG9uvG",
        "outputId": "6ff53566-56e1-4281-bbfe-53feef2e7873"
      },
      "source": [
        "df.boxplot(column = 'FastingBS');"
      ],
      "execution_count": 159,
      "outputs": [
        {
          "output_type": "display_data",
          "data": {
            "image/png": "[encoded data removed]",
            "text/plain": [
              "<Figure size 432x288 with 1 Axes>"
            ]
          },
          "metadata": {
            "needs_background": "light"
          }
        }
      ]
    },
    {
      "cell_type": "code",
      "metadata": {
        "colab": {
          "base_uri": "https://localhost:8080/",
          "height": 265
        },
        "id": "7U90dle_9um-",
        "outputId": "ea942519-5a9a-464a-ff62-f587ee3addf0"
      },
      "source": [
        "df['FastingBS'].hist();"
      ],
      "execution_count": 160,
      "outputs": [
        {
          "output_type": "display_data",
          "data": {
            "image/png": "[encoded data removed]",
            "text/plain": [
              "<Figure size 432x288 with 1 Axes>"
            ]
          },
          "metadata": {
            "needs_background": "light"
          }
        }
      ]
    },
    {
      "cell_type": "markdown",
      "metadata": {
        "id": "QPLpCccf-bOh"
      },
      "source": [
        "The FastingBS is skewed (far more data points on the Low Side)"
      ]
    },
    {
      "cell_type": "code",
      "metadata": {
        "colab": {
          "base_uri": "https://localhost:8080/",
          "height": 265
        },
        "id": "q_a0FWaz9xzu",
        "outputId": "5c148c37-fce0-414d-d76d-f08376b55099"
      },
      "source": [
        "df.boxplot(column = 'MaxHR');"
      ],
      "execution_count": 161,
      "outputs": [
        {
          "output_type": "display_data",
          "data": {
            "image/png": "[encoded data removed]",
            "text/plain": [
              "<Figure size 432x288 with 1 Axes>"
            ]
          },
          "metadata": {
            "needs_background": "light"
          }
        }
      ]
    },
    {
      "cell_type": "code",
      "metadata": {
        "colab": {
          "base_uri": "https://localhost:8080/",
          "height": 268
        },
        "id": "RJ2INunU9zmQ",
        "outputId": "92efaffc-623e-4af5-f444-77f765e24bb1"
      },
      "source": [
        "df['MaxHR'].hist();"
      ],
      "execution_count": 162,
      "outputs": [
        {
          "output_type": "display_data",
          "data": {
            "image/png": "[encoded data removed]",
            "text/plain": [
              "<Figure size 432x288 with 1 Axes>"
            ]
          },
          "metadata": {
            "needs_background": "light"
          }
        }
      ]
    },
    {
      "cell_type": "markdown",
      "metadata": {
        "id": "5hwpL2s7-mSR"
      },
      "source": [
        "There are a few outliers for RestingBP on both the high and low end, but they seem possible. "
      ]
    },
    {
      "cell_type": "code",
      "metadata": {
        "colab": {
          "base_uri": "https://localhost:8080/",
          "height": 265
        },
        "id": "_GGG-hAI97q7",
        "outputId": "7852a689-3df1-4271-f196-51e28cfe6a43"
      },
      "source": [
        "df.boxplot(column = 'Oldpeak');"
      ],
      "execution_count": 163,
      "outputs": [
        {
          "output_type": "display_data",
          "data": {
            "image/png": "[encoded data removed]",
            "text/plain": [
              "<Figure size 432x288 with 1 Axes>"
            ]
          },
          "metadata": {
            "needs_background": "light"
          }
        }
      ]
    },
    {
      "cell_type": "code",
      "metadata": {
        "colab": {
          "base_uri": "https://localhost:8080/",
          "height": 265
        },
        "id": "cxrDRJxp98xk",
        "outputId": "d57e8e18-70b8-4883-bdcb-855114b4a016"
      },
      "source": [
        "df['Oldpeak'].hist();"
      ],
      "execution_count": 164,
      "outputs": [
        {
          "output_type": "display_data",
          "data": {
            "image/png": "[encoded data removed]",
            "text/plain": [
              "<Figure size 432x288 with 1 Axes>"
            ]
          },
          "metadata": {
            "needs_background": "light"
          }
        }
      ]
    },
    {
      "cell_type": "markdown",
      "metadata": {
        "id": "eQFKrjPa_-pP"
      },
      "source": [
        "We have outliers on both ends (High and Low). They seem resonable. "
      ]
    },
    {
      "cell_type": "code",
      "metadata": {
        "colab": {
          "base_uri": "https://localhost:8080/",
          "height": 265
        },
        "id": "swbIQxQS-AE3",
        "outputId": "13932291-a938-437d-dce9-cd2aed35e053"
      },
      "source": [
        "df.boxplot(column = 'HeartDisease');"
      ],
      "execution_count": 165,
      "outputs": [
        {
          "output_type": "display_data",
          "data": {
            "image/png": "[encoded data removed]",
            "text/plain": [
              "<Figure size 432x288 with 1 Axes>"
            ]
          },
          "metadata": {
            "needs_background": "light"
          }
        }
      ]
    },
    {
      "cell_type": "code",
      "metadata": {
        "colab": {
          "base_uri": "https://localhost:8080/",
          "height": 265
        },
        "id": "yfajw3T4-Aam",
        "outputId": "a70ae0c6-9df4-4d58-cfcc-779aadd233c7"
      },
      "source": [
        "df['HeartDisease'].hist();"
      ],
      "execution_count": 166,
      "outputs": [
        {
          "output_type": "display_data",
          "data": {
            "image/png": "[encoded data removed]",
            "text/plain": [
              "<Figure size 432x288 with 1 Axes>"
            ]
          },
          "metadata": {
            "needs_background": "light"
          }
        }
      ]
    },
    {
      "cell_type": "markdown",
      "metadata": {
        "id": "feBkMl2X_5k7"
      },
      "source": [
        "More People have Heart Disease in our data set"
      ]
    },
    {
      "cell_type": "code",
      "metadata": {
        "colab": {
          "base_uri": "https://localhost:8080/",
          "height": 327
        },
        "id": "TTEWX3rw-xpk",
        "outputId": "a763b5f7-66f7-4753-f724-8e959ff1d4fc"
      },
      "source": [
        "# Explore the relationships between variables with bivariate visuals\n",
        "corr = df.corr()\n",
        "sns.heatmap(corr, annot = True);"
      ],
      "execution_count": 167,
      "outputs": [
        {
          "output_type": "display_data",
          "data": {
            "image/png": "[encoded data removed]",
            "text/plain": [
              "<Figure size 432x288 with 2 Axes>"
            ]
          },
          "metadata": {
            "needs_background": "light"
          }
        }
      ]
    },
    {
      "cell_type": "markdown",
      "metadata": {
        "id": "MyY2upN2-8vC"
      },
      "source": [
        "Looks like we have minimal correlation between Heart Disease and MaxHR (-.4) and HeartDeisease and OldPeak (.4). We also have a low correlation (-.38) between two features Age and MaxHR"
      ]
    },
    {
      "cell_type": "code",
      "metadata": {
        "id": "FcPsKua1-yWH",
        "colab": {
          "base_uri": "https://localhost:8080/",
          "height": 203
        },
        "outputId": "f0b80edb-8893-4387-d429-f0f6edd0c2c8"
      },
      "source": [
        "df.head()"
      ],
      "execution_count": 168,
      "outputs": [
        {
          "output_type": "execute_result",
          "data": {
            "text/html": [
              "<div>\n",
              "<style scoped>\n",
              "    .dataframe tbody tr th:only-of-type {\n",
              "        vertical-align: middle;\n",
              "    }\n",
              "\n",
              "    .dataframe tbody tr th {\n",
              "        vertical-align: top;\n",
              "    }\n",
              "\n",
              "    .dataframe thead th {\n",
              "        text-align: right;\n",
              "    }\n",
              "</style>\n",
              "<table border=\"1\" class=\"dataframe\">\n",
              "  <thead>\n",
              "    <tr style=\"text-align: right;\">\n",
              "      <th></th>\n",
              "      <th>Age</th>\n",
              "      <th>Sex</th>\n",
              "      <th>ChestPainType</th>\n",
              "      <th>RestingBP</th>\n",
              "      <th>FastingBS</th>\n",
              "      <th>RestingECG</th>\n",
              "      <th>MaxHR</th>\n",
              "      <th>ExerciseAngina</th>\n",
              "      <th>Oldpeak</th>\n",
              "      <th>ST_Slope</th>\n",
              "      <th>HeartDisease</th>\n",
              "    </tr>\n",
              "  </thead>\n",
              "  <tbody>\n",
              "    <tr>\n",
              "      <th>0</th>\n",
              "      <td>40</td>\n",
              "      <td>M</td>\n",
              "      <td>ATA</td>\n",
              "      <td>140</td>\n",
              "      <td>0</td>\n",
              "      <td>Normal</td>\n",
              "      <td>172</td>\n",
              "      <td>N</td>\n",
              "      <td>0.0</td>\n",
              "      <td>Up</td>\n",
              "      <td>0</td>\n",
              "    </tr>\n",
              "    <tr>\n",
              "      <th>1</th>\n",
              "      <td>49</td>\n",
              "      <td>F</td>\n",
              "      <td>NAP</td>\n",
              "      <td>160</td>\n",
              "      <td>0</td>\n",
              "      <td>Normal</td>\n",
              "      <td>156</td>\n",
              "      <td>N</td>\n",
              "      <td>1.0</td>\n",
              "      <td>Flat</td>\n",
              "      <td>1</td>\n",
              "    </tr>\n",
              "    <tr>\n",
              "      <th>2</th>\n",
              "      <td>37</td>\n",
              "      <td>M</td>\n",
              "      <td>ATA</td>\n",
              "      <td>130</td>\n",
              "      <td>0</td>\n",
              "      <td>ST</td>\n",
              "      <td>98</td>\n",
              "      <td>N</td>\n",
              "      <td>0.0</td>\n",
              "      <td>Up</td>\n",
              "      <td>0</td>\n",
              "    </tr>\n",
              "    <tr>\n",
              "      <th>3</th>\n",
              "      <td>48</td>\n",
              "      <td>F</td>\n",
              "      <td>ASY</td>\n",
              "      <td>138</td>\n",
              "      <td>0</td>\n",
              "      <td>Normal</td>\n",
              "      <td>108</td>\n",
              "      <td>Y</td>\n",
              "      <td>1.5</td>\n",
              "      <td>Flat</td>\n",
              "      <td>1</td>\n",
              "    </tr>\n",
              "    <tr>\n",
              "      <th>4</th>\n",
              "      <td>54</td>\n",
              "      <td>M</td>\n",
              "      <td>NAP</td>\n",
              "      <td>150</td>\n",
              "      <td>0</td>\n",
              "      <td>Normal</td>\n",
              "      <td>122</td>\n",
              "      <td>N</td>\n",
              "      <td>0.0</td>\n",
              "      <td>Up</td>\n",
              "      <td>0</td>\n",
              "    </tr>\n",
              "  </tbody>\n",
              "</table>\n",
              "</div>"
            ],
            "text/plain": [
              "   Age Sex ChestPainType  ...  Oldpeak  ST_Slope HeartDisease\n",
              "0   40   M           ATA  ...      0.0        Up            0\n",
              "1   49   F           NAP  ...      1.0      Flat            1\n",
              "2   37   M           ATA  ...      0.0        Up            0\n",
              "3   48   F           ASY  ...      1.5      Flat            1\n",
              "4   54   M           NAP  ...      0.0        Up            0\n",
              "\n",
              "[5 rows x 11 columns]"
            ]
          },
          "metadata": {},
          "execution_count": 168
        }
      ]
    },
    {
      "cell_type": "code",
      "metadata": {
        "id": "9nqamyWCiL8j"
      },
      "source": [
        "# Identify Target and Feautures Matrix\n",
        "X= df.drop(columns = 'HeartDisease')\n",
        "y = df['HeartDisease']"
      ],
      "execution_count": 169,
      "outputs": []
    },
    {
      "cell_type": "code",
      "metadata": {
        "id": "tHbzuP00ilqr"
      },
      "source": [
        "from sklearn.model_selection import train_test_split, GridSearchCV\n",
        "from sklearn.preprocessing import StandardScaler, OneHotEncoder\n",
        "from sklearn.compose import make_column_transformer, make_column_selector\n",
        "from sklearn.pipeline import make_pipeline\n",
        "from sklearn.neighbors import KNeighborsClassifier\n",
        "from sklearn.ensemble import RandomForestClassifier\n",
        "from sklearn.metrics import accuracy_score"
      ],
      "execution_count": 170,
      "outputs": []
    },
    {
      "cell_type": "code",
      "metadata": {
        "id": "bOF34_clidt_"
      },
      "source": [
        "# Train-Test-Split data\n",
        "X_train, X_test, y_train, y_test = train_test_split(X, y, random_state=42)"
      ],
      "execution_count": 171,
      "outputs": []
    },
    {
      "cell_type": "code",
      "metadata": {
        "id": "B4ZcIw34iqDc"
      },
      "source": [
        "# Pre-Process for Machine Learning with a pipeline\n",
        "# Dummy encode the categorical feature(s) using OneHotEncoder (this will be part of our pipeline)\n",
        "# Scale the quantitative feature(s) using StandardScaler so it (this will be part of our pipeline)\n",
        "\n",
        "# There is only one categorical feature (column) here, but it can be very helpful to define a variable for each type of feature...be careful defining features based only on dtype. If needed change the dtype to match your data.\n",
        "cat_feat= make_column_selector(dtype_include = 'object')\n",
        "# This will identify all of the quantitative features (columns)\n",
        "quant_feat = make_column_selector(dtype_include = 'number')\n",
        "\n",
        "# Instantiate the column transformers you want to use\n",
        "encoder = OneHotEncoder(handle_unknown = 'ignore')\n",
        "scaler = StandardScaler()\n",
        "\n",
        "# Now make the column transformer...this matches the transformations that we want with the appropriate columns.\n",
        "column_transformer = make_column_transformer((encoder, cat_feat), (scaler, quant_feat))\n",
        "\n",
        "# We will add our column_transformer to our pipeline when we make it"
      ],
      "execution_count": 172,
      "outputs": []
    },
    {
      "cell_type": "code",
      "metadata": {
        "id": "pJovtmeMiqbG",
        "colab": {
          "base_uri": "https://localhost:8080/"
        },
        "outputId": "f953ee3c-9be2-4483-ef2b-fa4d87c06e17"
      },
      "source": [
        "column_transformer"
      ],
      "execution_count": 173,
      "outputs": [
        {
          "output_type": "execute_result",
          "data": {
            "text/plain": [
              "ColumnTransformer(n_jobs=None, remainder='drop', sparse_threshold=0.3,\n",
              "                  transformer_weights=None,\n",
              "                  transformers=[('onehotencoder',\n",
              "                                 OneHotEncoder(categories='auto', drop=None,\n",
              "                                               dtype=<class 'numpy.float64'>,\n",
              "                                               handle_unknown='ignore',\n",
              "                                               sparse=True),\n",
              "                                 <sklearn.compose._column_transformer.make_column_selector object at 0x7f34697ff590>),\n",
              "                                ('standardscaler',\n",
              "                                 StandardScaler(copy=True, with_mean=True,\n",
              "                                                with_std=True),\n",
              "                                 <sklearn.compose._column_transformer.make_column_selector object at 0x7f34697ffa90>)],\n",
              "                  verbose=False)"
            ]
          },
          "metadata": {},
          "execution_count": 173
        }
      ]
    },
    {
      "cell_type": "markdown",
      "metadata": {
        "id": "y0MLZL06it71"
      },
      "source": [
        "KNN Model for Classification"
      ]
    },
    {
      "cell_type": "code",
      "metadata": {
        "id": "hN5LK5gGisJp",
        "colab": {
          "base_uri": "https://localhost:8080/"
        },
        "outputId": "d0e4372e-f2a9-4485-9b27-80e749dbb352"
      },
      "source": [
        "# instatiate each step with defaults \n",
        "knn = KNeighborsClassifier()\n",
        "# Then add each to the pipeline\n",
        "knn_pipe = make_pipeline(column_transformer, knn)\n",
        "# now fit the pipe on the training data\n",
        "knn_pipe.fit(X_train, y_train)\n",
        "# Print the accuracy of the training and test set\n",
        "print('Training Accuracy', accuracy_score(y_train, knn_pipe.predict(X_train)))\n",
        "print('Testing Accuracy', accuracy_score(y_test, knn_pipe.predict(X_test)))"
      ],
      "execution_count": 174,
      "outputs": [
        {
          "output_type": "stream",
          "name": "stdout",
          "text": [
            "Training Accuracy 0.8893740902474527\n",
            "Testing Accuracy 0.8739130434782608\n"
          ]
        }
      ]
    },
    {
      "cell_type": "markdown",
      "metadata": {
        "id": "UCAfJURJi1A_"
      },
      "source": [
        "We can se that this model may be over fit as the Training data accuracy score was higher than the Testing"
      ]
    },
    {
      "cell_type": "code",
      "metadata": {
        "id": "AUemgFLJi1NX",
        "colab": {
          "base_uri": "https://localhost:8080/"
        },
        "outputId": "3a10d0ad-90df-44a1-e804-d396d6aaf2b3"
      },
      "source": [
        "knn_pipe.get_params"
      ],
      "execution_count": 175,
      "outputs": [
        {
          "output_type": "execute_result",
          "data": {
            "text/plain": [
              "<bound method Pipeline.get_params of Pipeline(memory=None,\n",
              "         steps=[('columntransformer',\n",
              "                 ColumnTransformer(n_jobs=None, remainder='drop',\n",
              "                                   sparse_threshold=0.3,\n",
              "                                   transformer_weights=None,\n",
              "                                   transformers=[('onehotencoder',\n",
              "                                                  OneHotEncoder(categories='auto',\n",
              "                                                                drop=None,\n",
              "                                                                dtype=<class 'numpy.float64'>,\n",
              "                                                                handle_unknown='ignore',\n",
              "                                                                sparse=True),\n",
              "                                                  <sklearn.compose._column_transformer.make_column_selector object at 0x7f...\n",
              "                                                 ('standardscaler',\n",
              "                                                  StandardScaler(copy=True,\n",
              "                                                                 with_mean=True,\n",
              "                                                                 with_std=True),\n",
              "                                                  <sklearn.compose._column_transformer.make_column_selector object at 0x7f34697ffa90>)],\n",
              "                                   verbose=False)),\n",
              "                ('kneighborsclassifier',\n",
              "                 KNeighborsClassifier(algorithm='auto', leaf_size=30,\n",
              "                                      metric='minkowski', metric_params=None,\n",
              "                                      n_jobs=None, n_neighbors=5, p=2,\n",
              "                                      weights='uniform'))],\n",
              "         verbose=False)>"
            ]
          },
          "metadata": {},
          "execution_count": 175
        }
      ]
    },
    {
      "cell_type": "code",
      "metadata": {
        "id": "VcLU0waki3Lg"
      },
      "source": [
        "knn_params = {'kneighborsclassifier__n_neighbors' : [2, 5, 10],\n",
        "          'kneighborsclassifier__weights' : ['uniform', 'distance'], \n",
        "          'kneighborsclassifier__algorithm' : ['auto', 'ball_tree'], \n",
        "          'kneighborsclassifier__p' : [1,2]}"
      ],
      "execution_count": 176,
      "outputs": []
    },
    {
      "cell_type": "code",
      "metadata": {
        "id": "M0mkrR3Ui4y8",
        "colab": {
          "base_uri": "https://localhost:8080/"
        },
        "outputId": "c072adb3-86b4-4f0d-9b2d-aa6567f96ce0"
      },
      "source": [
        "# Instantiate the Gridsearch with the KNN pipeline and the knn_params \n",
        "knn_gs = GridSearchCV(knn_pipe, knn_params)\n",
        "# Now Fit the new model\n",
        "knn_gs.fit(X_train, y_train)"
      ],
      "execution_count": 177,
      "outputs": [
        {
          "output_type": "execute_result",
          "data": {
            "text/plain": [
              "GridSearchCV(cv=None, error_score=nan,\n",
              "             estimator=Pipeline(memory=None,\n",
              "                                steps=[('columntransformer',\n",
              "                                        ColumnTransformer(n_jobs=None,\n",
              "                                                          remainder='drop',\n",
              "                                                          sparse_threshold=0.3,\n",
              "                                                          transformer_weights=None,\n",
              "                                                          transformers=[('onehotencoder',\n",
              "                                                                         OneHotEncoder(categories='auto',\n",
              "                                                                                       drop=None,\n",
              "                                                                                       dtype=<class 'numpy.float64'>,\n",
              "                                                                                       handle_unknown='ignore',\n",
              "                                                                                       sparse=True),\n",
              "                                                                         <sklearn.compose._colu...\n",
              "                                                             n_neighbors=5, p=2,\n",
              "                                                             weights='uniform'))],\n",
              "                                verbose=False),\n",
              "             iid='deprecated', n_jobs=None,\n",
              "             param_grid={'kneighborsclassifier__algorithm': ['auto',\n",
              "                                                             'ball_tree'],\n",
              "                         'kneighborsclassifier__n_neighbors': [2, 5, 10],\n",
              "                         'kneighborsclassifier__p': [1, 2],\n",
              "                         'kneighborsclassifier__weights': ['uniform',\n",
              "                                                           'distance']},\n",
              "             pre_dispatch='2*n_jobs', refit=True, return_train_score=False,\n",
              "             scoring=None, verbose=0)"
            ]
          },
          "metadata": {},
          "execution_count": 177
        }
      ]
    },
    {
      "cell_type": "code",
      "metadata": {
        "id": "SF6SvIVhi6vF",
        "colab": {
          "base_uri": "https://localhost:8080/"
        },
        "outputId": "fd4ba41d-ac2e-4b8c-d67f-1f38e42c3f7f"
      },
      "source": [
        "# Showing what parameters gave the best results \n",
        "knn_gs.best_params_"
      ],
      "execution_count": 178,
      "outputs": [
        {
          "output_type": "execute_result",
          "data": {
            "text/plain": [
              "{'kneighborsclassifier__algorithm': 'auto',\n",
              " 'kneighborsclassifier__n_neighbors': 10,\n",
              " 'kneighborsclassifier__p': 2,\n",
              " 'kneighborsclassifier__weights': 'distance'}"
            ]
          },
          "metadata": {},
          "execution_count": 178
        }
      ]
    },
    {
      "cell_type": "code",
      "metadata": {
        "id": "UyNraa03i9JE",
        "colab": {
          "base_uri": "https://localhost:8080/"
        },
        "outputId": "0e5c1663-e187-40ac-ba90-9300b4ff11ae"
      },
      "source": [
        "print('KNN_GS Training Score:', accuracy_score(y_train, knn_gs.predict(X_train)))\n",
        "print('KNN_GS Testing Score:', accuracy_score(y_test, knn_gs.predict(X_test)))"
      ],
      "execution_count": 179,
      "outputs": [
        {
          "output_type": "stream",
          "name": "stdout",
          "text": [
            "KNN_GS Training Score: 1.0\n",
            "KNN_GS Testing Score: 0.8739130434782608\n"
          ]
        }
      ]
    },
    {
      "cell_type": "markdown",
      "metadata": {
        "id": "yz42ij9TjD1o"
      },
      "source": [
        "After Tuning the Parameters we can See that the Accuracy score of both the \n",
        "Training and Testing has increased, but it still looks to be overfit"
      ]
    },
    {
      "cell_type": "markdown",
      "metadata": {
        "id": "N_SkQIvUjHIx"
      },
      "source": [
        "Random Forest for Classification Model"
      ]
    },
    {
      "cell_type": "code",
      "metadata": {
        "id": "Gl6pLvlii-sb",
        "colab": {
          "base_uri": "https://localhost:8080/"
        },
        "outputId": "bbfae360-2baf-43bc-9b80-9d0dc9e09489"
      },
      "source": [
        "# First instatiate each step with defaults \n",
        "rf = RandomForestClassifier()\n",
        "# Then add each to the pipeline\n",
        "rf_pipe = make_pipeline(column_transformer, rf)\n",
        "# now fit the pipe on the training data\n",
        "rf_pipe.fit(X_train, y_train)\n",
        "# Print the accuracy of the training set and test set\n",
        "print('Training Accuracy', accuracy_score(y_train, rf_pipe.predict(X_train)))\n",
        "print('Testing Accuracy', accuracy_score(y_test, rf_pipe.predict(X_test)))"
      ],
      "execution_count": 180,
      "outputs": [
        {
          "output_type": "stream",
          "name": "stdout",
          "text": [
            "Training Accuracy 1.0\n",
            "Testing Accuracy 0.8652173913043478\n"
          ]
        }
      ]
    },
    {
      "cell_type": "markdown",
      "metadata": {
        "id": "OycXozK-jMd2"
      },
      "source": [
        "We have a perfect accuracy Score for training and a very high accuracy score for Testing data. This model has performed excemptionally well on our data"
      ]
    },
    {
      "cell_type": "code",
      "metadata": {
        "id": "DuhDKWKnjKVO",
        "colab": {
          "base_uri": "https://localhost:8080/"
        },
        "outputId": "7dc57b74-180b-4e4d-8336-ef0f09268ee8"
      },
      "source": [
        "rf_pipe.get_params()"
      ],
      "execution_count": 181,
      "outputs": [
        {
          "output_type": "execute_result",
          "data": {
            "text/plain": [
              "{'columntransformer': ColumnTransformer(n_jobs=None, remainder='drop', sparse_threshold=0.3,\n",
              "                   transformer_weights=None,\n",
              "                   transformers=[('onehotencoder',\n",
              "                                  OneHotEncoder(categories='auto', drop=None,\n",
              "                                                dtype=<class 'numpy.float64'>,\n",
              "                                                handle_unknown='ignore',\n",
              "                                                sparse=True),\n",
              "                                  <sklearn.compose._column_transformer.make_column_selector object at 0x7f34697ff590>),\n",
              "                                 ('standardscaler',\n",
              "                                  StandardScaler(copy=True, with_mean=True,\n",
              "                                                 with_std=True),\n",
              "                                  <sklearn.compose._column_transformer.make_column_selector object at 0x7f34697ffa90>)],\n",
              "                   verbose=False),\n",
              " 'columntransformer__n_jobs': None,\n",
              " 'columntransformer__onehotencoder': OneHotEncoder(categories='auto', drop=None, dtype=<class 'numpy.float64'>,\n",
              "               handle_unknown='ignore', sparse=True),\n",
              " 'columntransformer__onehotencoder__categories': 'auto',\n",
              " 'columntransformer__onehotencoder__drop': None,\n",
              " 'columntransformer__onehotencoder__dtype': numpy.float64,\n",
              " 'columntransformer__onehotencoder__handle_unknown': 'ignore',\n",
              " 'columntransformer__onehotencoder__sparse': True,\n",
              " 'columntransformer__remainder': 'drop',\n",
              " 'columntransformer__sparse_threshold': 0.3,\n",
              " 'columntransformer__standardscaler': StandardScaler(copy=True, with_mean=True, with_std=True),\n",
              " 'columntransformer__standardscaler__copy': True,\n",
              " 'columntransformer__standardscaler__with_mean': True,\n",
              " 'columntransformer__standardscaler__with_std': True,\n",
              " 'columntransformer__transformer_weights': None,\n",
              " 'columntransformer__transformers': [('onehotencoder',\n",
              "   OneHotEncoder(categories='auto', drop=None, dtype=<class 'numpy.float64'>,\n",
              "                 handle_unknown='ignore', sparse=True),\n",
              "   <sklearn.compose._column_transformer.make_column_selector at 0x7f34697ff590>),\n",
              "  ('standardscaler',\n",
              "   StandardScaler(copy=True, with_mean=True, with_std=True),\n",
              "   <sklearn.compose._column_transformer.make_column_selector at 0x7f34697ffa90>)],\n",
              " 'columntransformer__verbose': False,\n",
              " 'memory': None,\n",
              " 'randomforestclassifier': RandomForestClassifier(bootstrap=True, ccp_alpha=0.0, class_weight=None,\n",
              "                        criterion='gini', max_depth=None, max_features='auto',\n",
              "                        max_leaf_nodes=None, max_samples=None,\n",
              "                        min_impurity_decrease=0.0, min_impurity_split=None,\n",
              "                        min_samples_leaf=1, min_samples_split=2,\n",
              "                        min_weight_fraction_leaf=0.0, n_estimators=100,\n",
              "                        n_jobs=None, oob_score=False, random_state=None,\n",
              "                        verbose=0, warm_start=False),\n",
              " 'randomforestclassifier__bootstrap': True,\n",
              " 'randomforestclassifier__ccp_alpha': 0.0,\n",
              " 'randomforestclassifier__class_weight': None,\n",
              " 'randomforestclassifier__criterion': 'gini',\n",
              " 'randomforestclassifier__max_depth': None,\n",
              " 'randomforestclassifier__max_features': 'auto',\n",
              " 'randomforestclassifier__max_leaf_nodes': None,\n",
              " 'randomforestclassifier__max_samples': None,\n",
              " 'randomforestclassifier__min_impurity_decrease': 0.0,\n",
              " 'randomforestclassifier__min_impurity_split': None,\n",
              " 'randomforestclassifier__min_samples_leaf': 1,\n",
              " 'randomforestclassifier__min_samples_split': 2,\n",
              " 'randomforestclassifier__min_weight_fraction_leaf': 0.0,\n",
              " 'randomforestclassifier__n_estimators': 100,\n",
              " 'randomforestclassifier__n_jobs': None,\n",
              " 'randomforestclassifier__oob_score': False,\n",
              " 'randomforestclassifier__random_state': None,\n",
              " 'randomforestclassifier__verbose': 0,\n",
              " 'randomforestclassifier__warm_start': False,\n",
              " 'steps': [('columntransformer',\n",
              "   ColumnTransformer(n_jobs=None, remainder='drop', sparse_threshold=0.3,\n",
              "                     transformer_weights=None,\n",
              "                     transformers=[('onehotencoder',\n",
              "                                    OneHotEncoder(categories='auto', drop=None,\n",
              "                                                  dtype=<class 'numpy.float64'>,\n",
              "                                                  handle_unknown='ignore',\n",
              "                                                  sparse=True),\n",
              "                                    <sklearn.compose._column_transformer.make_column_selector object at 0x7f34697ff590>),\n",
              "                                   ('standardscaler',\n",
              "                                    StandardScaler(copy=True, with_mean=True,\n",
              "                                                   with_std=True),\n",
              "                                    <sklearn.compose._column_transformer.make_column_selector object at 0x7f34697ffa90>)],\n",
              "                     verbose=False)),\n",
              "  ('randomforestclassifier',\n",
              "   RandomForestClassifier(bootstrap=True, ccp_alpha=0.0, class_weight=None,\n",
              "                          criterion='gini', max_depth=None, max_features='auto',\n",
              "                          max_leaf_nodes=None, max_samples=None,\n",
              "                          min_impurity_decrease=0.0, min_impurity_split=None,\n",
              "                          min_samples_leaf=1, min_samples_split=2,\n",
              "                          min_weight_fraction_leaf=0.0, n_estimators=100,\n",
              "                          n_jobs=None, oob_score=False, random_state=None,\n",
              "                          verbose=0, warm_start=False))],\n",
              " 'verbose': False}"
            ]
          },
          "metadata": {},
          "execution_count": 181
        }
      ]
    },
    {
      "cell_type": "code",
      "metadata": {
        "id": "r_-ooiMKjNwZ"
      },
      "source": [
        "# Define the hyperparameters to test\n",
        "rf_params = {'randomforestclassifier__max_depth' : [None, 10],\n",
        "             'randomforestclassifier__n_estimators' : [100,300,500],\n",
        "             'randomforestclassifier__min_samples_split' : [2, 4]}"
      ],
      "execution_count": 182,
      "outputs": []
    },
    {
      "cell_type": "code",
      "metadata": {
        "id": "M8-r9kYRjQIW",
        "colab": {
          "base_uri": "https://localhost:8080/"
        },
        "outputId": "ee5d978e-2c0e-47dc-f7c2-2e5211f35d1b"
      },
      "source": [
        "# Instantiate the Gridsearch with the Random Forest pipeline\n",
        "rf_gs = GridSearchCV(rf_pipe, rf_params)\n",
        "# Now Fit the new model\n",
        "rf_gs.fit(X_train, y_train)"
      ],
      "execution_count": 183,
      "outputs": [
        {
          "output_type": "execute_result",
          "data": {
            "text/plain": [
              "GridSearchCV(cv=None, error_score=nan,\n",
              "             estimator=Pipeline(memory=None,\n",
              "                                steps=[('columntransformer',\n",
              "                                        ColumnTransformer(n_jobs=None,\n",
              "                                                          remainder='drop',\n",
              "                                                          sparse_threshold=0.3,\n",
              "                                                          transformer_weights=None,\n",
              "                                                          transformers=[('onehotencoder',\n",
              "                                                                         OneHotEncoder(categories='auto',\n",
              "                                                                                       drop=None,\n",
              "                                                                                       dtype=<class 'numpy.float64'>,\n",
              "                                                                                       handle_unknown='ignore',\n",
              "                                                                                       sparse=True),\n",
              "                                                                         <sklearn.compose._colu...\n",
              "                                                               oob_score=False,\n",
              "                                                               random_state=None,\n",
              "                                                               verbose=0,\n",
              "                                                               warm_start=False))],\n",
              "                                verbose=False),\n",
              "             iid='deprecated', n_jobs=None,\n",
              "             param_grid={'randomforestclassifier__max_depth': [None, 10],\n",
              "                         'randomforestclassifier__min_samples_split': [2, 4],\n",
              "                         'randomforestclassifier__n_estimators': [100, 300,\n",
              "                                                                  500]},\n",
              "             pre_dispatch='2*n_jobs', refit=True, return_train_score=False,\n",
              "             scoring=None, verbose=0)"
            ]
          },
          "metadata": {},
          "execution_count": 183
        }
      ]
    },
    {
      "cell_type": "code",
      "metadata": {
        "id": "kensajdYjTOD",
        "colab": {
          "base_uri": "https://localhost:8080/"
        },
        "outputId": "8c88edc7-0969-47b6-b0d6-db921784d8f9"
      },
      "source": [
        "# See which hyperparameters gave the best results\n",
        "rf_gs.best_params_"
      ],
      "execution_count": 184,
      "outputs": [
        {
          "output_type": "execute_result",
          "data": {
            "text/plain": [
              "{'randomforestclassifier__max_depth': 10,\n",
              " 'randomforestclassifier__min_samples_split': 4,\n",
              " 'randomforestclassifier__n_estimators': 100}"
            ]
          },
          "metadata": {},
          "execution_count": 184
        }
      ]
    },
    {
      "cell_type": "code",
      "metadata": {
        "id": "V2d5JvmNj6Cf",
        "colab": {
          "base_uri": "https://localhost:8080/"
        },
        "outputId": "b39f0186-ced0-45b3-e5cc-e2add3406229"
      },
      "source": [
        "print('RF_GS Training Score:', accuracy_score(y_train, rf_gs.predict(X_train)))\n",
        "print('RF_GS Testing Score:', accuracy_score(y_test, rf_gs.predict(X_test)))"
      ],
      "execution_count": 185,
      "outputs": [
        {
          "output_type": "stream",
          "name": "stdout",
          "text": [
            "RF_GS Training Score: 0.9708879184861717\n",
            "RF_GS Testing Score: 0.8652173913043478\n"
          ]
        }
      ]
    },
    {
      "cell_type": "markdown",
      "metadata": {
        "id": "vJhGLSGakCI7"
      },
      "source": [
        "Tuning the parameters did not increase the accuracy scores for either the testing or the training data for our model. This is very reasonable as the original model had very high scores"
      ]
    },
    {
      "cell_type": "code",
      "metadata": {
        "id": "JFMTKzDXj7aF"
      },
      "source": [
        "from sklearn.metrics import plot_confusion_matrix"
      ],
      "execution_count": 186,
      "outputs": []
    },
    {
      "cell_type": "code",
      "metadata": {
        "id": "IYHLmaXhkFTq"
      },
      "source": [
        "from sklearn.metrics import recall_score, precision_score, \\\n",
        "f1_score, classification_report, confusion_matrix"
      ],
      "execution_count": 187,
      "outputs": []
    },
    {
      "cell_type": "markdown",
      "metadata": {
        "id": "YfN2S7nbkJEm"
      },
      "source": [
        "We will now Look at all Metrics of both models created"
      ]
    },
    {
      "cell_type": "code",
      "metadata": {
        "id": "Tq9NrbQhkGjR"
      },
      "source": [
        "def evaluate_classification(y_true, y_test, average=None):\n",
        "  accuracy = accuracy_score(y_true, y_test)\n",
        "  recall = recall_score(y_true, y_test, average=average)\n",
        "  precision = precision_score(y_true, y_test, average=average)\n",
        "  f1 = f1_score(y_true, y_test, average=average)\n",
        "\n",
        "  print(f'Accuracy: {accuracy} \\nRecall: {recall} \\nPrecision: {precision} \\nF1 Score: {f1}')"
      ],
      "execution_count": 188,
      "outputs": []
    },
    {
      "cell_type": "code",
      "metadata": {
        "id": "AnpD_d57kMrj",
        "colab": {
          "base_uri": "https://localhost:8080/"
        },
        "outputId": "360d8db6-cc91-4445-9db6-ffc06c79d681"
      },
      "source": [
        "print('KNN_GS Training Metrics\\n')\n",
        "evaluate_classification(y_train, knn_gs.predict(X_train), average='macro')\n",
        "print('\\n')\n",
        "\n",
        "print('KNN_GS Testing Metrics\\n')\n",
        "evaluate_classification(y_test, knn_gs.predict(X_test), average='macro')"
      ],
      "execution_count": 189,
      "outputs": [
        {
          "output_type": "stream",
          "name": "stdout",
          "text": [
            "KNN_GS Training Metrics\n",
            "\n",
            "Accuracy: 1.0 \n",
            "Recall: 1.0 \n",
            "Precision: 1.0 \n",
            "F1 Score: 1.0\n",
            "\n",
            "\n",
            "KNN_GS Testing Metrics\n",
            "\n",
            "Accuracy: 0.8739130434782608 \n",
            "Recall: 0.8686507936507937 \n",
            "Precision: 0.8672227053522017 \n",
            "F1 Score: 0.8679181765975564\n"
          ]
        }
      ]
    },
    {
      "cell_type": "code",
      "metadata": {
        "id": "6LDj6fzAkN_X",
        "colab": {
          "base_uri": "https://localhost:8080/"
        },
        "outputId": "50059a08-5222-4e71-a412-74548f4d6882"
      },
      "source": [
        "print('Classification Report for KNN_GS Training Set')\n",
        "train_report = classification_report(y_train, knn_gs.predict(X_train))\n",
        "print(train_report)\n",
        "\n",
        "print('Confusion Matrix for KNN_GS Training Set')\n",
        "train_conf_mat = confusion_matrix(y_train, knn_gs.predict(X_train))\n",
        "print(train_conf_mat)\n",
        "\n",
        "print('\\n\\n')\n",
        "\n",
        "print('Classification Report for KNN_GS Testing Set')\n",
        "\n",
        "test_report = classification_report(y_test, knn_gs.predict(X_test))\n",
        "print(test_report)\n",
        "\n",
        "print('Confusion Matrix for KNN_GS Testing Set')\n",
        "test_conf_mat = confusion_matrix(y_test, knn_gs.predict(X_test))\n",
        "print(test_conf_mat)"
      ],
      "execution_count": 190,
      "outputs": [
        {
          "output_type": "stream",
          "name": "stdout",
          "text": [
            "Classification Report for KNN_GS Training Set\n",
            "              precision    recall  f1-score   support\n",
            "\n",
            "           0       1.00      1.00      1.00       320\n",
            "           1       1.00      1.00      1.00       367\n",
            "\n",
            "    accuracy                           1.00       687\n",
            "   macro avg       1.00      1.00      1.00       687\n",
            "weighted avg       1.00      1.00      1.00       687\n",
            "\n",
            "Confusion Matrix for KNN_GS Training Set\n",
            "[[320   0]\n",
            " [  0 367]]\n",
            "\n",
            "\n",
            "\n",
            "Classification Report for KNN_GS Testing Set\n",
            "              precision    recall  f1-score   support\n",
            "\n",
            "           0       0.84      0.84      0.84        90\n",
            "           1       0.90      0.89      0.90       140\n",
            "\n",
            "    accuracy                           0.87       230\n",
            "   macro avg       0.87      0.87      0.87       230\n",
            "weighted avg       0.87      0.87      0.87       230\n",
            "\n",
            "Confusion Matrix for KNN_GS Testing Set\n",
            "[[ 76  14]\n",
            " [ 15 125]]\n"
          ]
        }
      ]
    },
    {
      "cell_type": "markdown",
      "metadata": {
        "id": "v6olZVgxkXFV"
      },
      "source": [
        "We can see that the KNN model did not perform as well as the RF model on our target data"
      ]
    },
    {
      "cell_type": "code",
      "metadata": {
        "id": "ScmPTM_rkS-p",
        "colab": {
          "base_uri": "https://localhost:8080/",
          "height": 279
        },
        "outputId": "3e2e29db-0558-4549-88c4-84823cac7fdc"
      },
      "source": [
        "plot_confusion_matrix(knn_gs, X_test, y_test, cmap = 'Blues');"
      ],
      "execution_count": 191,
      "outputs": [
        {
          "output_type": "display_data",
          "data": {
            "image/png": "[encoded data removed]",
            "text/plain": [
              "<Figure size 432x288 with 2 Axes>"
            ]
          },
          "metadata": {
            "needs_background": "light"
          }
        }
      ]
    },
    {
      "cell_type": "markdown",
      "metadata": {
        "id": "XCE06aWhklkD"
      },
      "source": [
        "Now we will Look at all the metrics for the Random Forest Model"
      ]
    },
    {
      "cell_type": "code",
      "metadata": {
        "id": "env2V9ZbkZK4",
        "colab": {
          "base_uri": "https://localhost:8080/"
        },
        "outputId": "b90d875d-6b51-4716-a3fe-6821189a45e4"
      },
      "source": [
        "print('RF_GS Training Metrics\\n')\n",
        "evaluate_classification(y_train, rf_gs.predict(X_train), average='macro')\n",
        "print('\\n')\n",
        "\n",
        "print('RF_GS Testing Metrics\\n')\n",
        "evaluate_classification(y_test, rf_gs.predict(X_test), average='macro')"
      ],
      "execution_count": 192,
      "outputs": [
        {
          "output_type": "stream",
          "name": "stdout",
          "text": [
            "RF_GS Training Metrics\n",
            "\n",
            "Accuracy: 0.9708879184861717 \n",
            "Recall: 0.9705509196185286 \n",
            "Precision: 0.970943907552283 \n",
            "F1 Score: 0.9707390622870383\n",
            "\n",
            "\n",
            "RF_GS Testing Metrics\n",
            "\n",
            "Accuracy: 0.8652173913043478 \n",
            "Recall: 0.8654761904761905 \n",
            "Precision: 0.8569490737152159 \n",
            "F1 Score: 0.860335742688684\n"
          ]
        }
      ]
    },
    {
      "cell_type": "code",
      "metadata": {
        "id": "WeIhwePjkm9d",
        "colab": {
          "base_uri": "https://localhost:8080/"
        },
        "outputId": "6816f1ba-61a5-41a9-d799-5118a17462cd"
      },
      "source": [
        "print('Classification Report for RF_GS Training Set')\n",
        "train_report = classification_report(y_train, rf_gs.predict(X_train))\n",
        "print(train_report)\n",
        "\n",
        "print('Confusion Matrix for RF_GS Training Set')\n",
        "train_conf_mat = confusion_matrix(y_train, rf_gs.predict(X_train))\n",
        "print(train_conf_mat)\n",
        "\n",
        "print('\\n\\n')\n",
        "\n",
        "print('Classification Report for RF_GS Testing Set')\n",
        "\n",
        "test_report = classification_report(y_test, rf_gs.predict(X_test))\n",
        "print(test_report)\n",
        "\n",
        "print('Confusion Matrix for RF_GS Testing Set')\n",
        "test_conf_mat = confusion_matrix(y_test, rf_gs.predict(X_test))\n",
        "print(test_conf_mat)"
      ],
      "execution_count": 193,
      "outputs": [
        {
          "output_type": "stream",
          "name": "stdout",
          "text": [
            "Classification Report for RF_GS Training Set\n",
            "              precision    recall  f1-score   support\n",
            "\n",
            "           0       0.97      0.97      0.97       320\n",
            "           1       0.97      0.98      0.97       367\n",
            "\n",
            "    accuracy                           0.97       687\n",
            "   macro avg       0.97      0.97      0.97       687\n",
            "weighted avg       0.97      0.97      0.97       687\n",
            "\n",
            "Confusion Matrix for RF_GS Training Set\n",
            "[[309  11]\n",
            " [  9 358]]\n",
            "\n",
            "\n",
            "\n",
            "Classification Report for RF_GS Testing Set\n",
            "              precision    recall  f1-score   support\n",
            "\n",
            "           0       0.80      0.87      0.83        90\n",
            "           1       0.91      0.86      0.89       140\n",
            "\n",
            "    accuracy                           0.87       230\n",
            "   macro avg       0.86      0.87      0.86       230\n",
            "weighted avg       0.87      0.87      0.87       230\n",
            "\n",
            "Confusion Matrix for RF_GS Testing Set\n",
            "[[ 78  12]\n",
            " [ 19 121]]\n"
          ]
        }
      ]
    },
    {
      "cell_type": "markdown",
      "metadata": {
        "id": "4RNhpcvQksJC"
      },
      "source": [
        "We can see the RF model worked exceptionally well on both the training and test sets "
      ]
    },
    {
      "cell_type": "code",
      "metadata": {
        "id": "wIm7nGPIkpZk",
        "colab": {
          "base_uri": "https://localhost:8080/",
          "height": 281
        },
        "outputId": "283be6d1-68d4-4555-b206-e1bd8acb48d6"
      },
      "source": [
        "plot_confusion_matrix(rf_gs, X_test, y_test, cmap = 'Greens');"
      ],
      "execution_count": 194,
      "outputs": [
        {
          "output_type": "display_data",
          "data": {
            "image/png": "[encoded data removed]",
            "text/plain": [
              "<Figure size 432x288 with 2 Axes>"
            ]
          },
          "metadata": {
            "needs_background": "light"
          }
        }
      ]
    },
    {
      "cell_type": "markdown",
      "metadata": {
        "id": "eVagVY2xlcAN"
      },
      "source": [
        "I chose the KNN model for Classificaion as it has a high acuracy score for both Training and Testing Data. This model performed best with the  parameters N= 10 and p = 2. It also has the loweer Type one and type 2 errors which shows their was less error in our preditions for this model. This model out performed the Random Fandom forest mnodel."
      ]
    },
    {
      "cell_type": "code",
      "metadata": {
        "id": "rm-Py9DCQC4a",
        "outputId": "401ddb41-a732-4ad1-9a07-eb977abff0ed",
        "colab": {
          "base_uri": "https://localhost:8080/",
          "height": 203
        }
      },
      "source": [
        "df.head()"
      ],
      "execution_count": 129,
      "outputs": [
        {
          "output_type": "execute_result",
          "data": {
            "text/html": [
              "<div>\n",
              "<style scoped>\n",
              "    .dataframe tbody tr th:only-of-type {\n",
              "        vertical-align: middle;\n",
              "    }\n",
              "\n",
              "    .dataframe tbody tr th {\n",
              "        vertical-align: top;\n",
              "    }\n",
              "\n",
              "    .dataframe thead th {\n",
              "        text-align: right;\n",
              "    }\n",
              "</style>\n",
              "<table border=\"1\" class=\"dataframe\">\n",
              "  <thead>\n",
              "    <tr style=\"text-align: right;\">\n",
              "      <th></th>\n",
              "      <th>Age</th>\n",
              "      <th>Sex</th>\n",
              "      <th>ChestPainType</th>\n",
              "      <th>RestingBP</th>\n",
              "      <th>FastingBS</th>\n",
              "      <th>RestingECG</th>\n",
              "      <th>MaxHR</th>\n",
              "      <th>ExerciseAngina</th>\n",
              "      <th>Oldpeak</th>\n",
              "      <th>ST_Slope</th>\n",
              "      <th>HeartDisease</th>\n",
              "    </tr>\n",
              "  </thead>\n",
              "  <tbody>\n",
              "    <tr>\n",
              "      <th>0</th>\n",
              "      <td>40</td>\n",
              "      <td>M</td>\n",
              "      <td>ATA</td>\n",
              "      <td>140</td>\n",
              "      <td>0</td>\n",
              "      <td>Normal</td>\n",
              "      <td>172</td>\n",
              "      <td>N</td>\n",
              "      <td>0.0</td>\n",
              "      <td>Up</td>\n",
              "      <td>0</td>\n",
              "    </tr>\n",
              "    <tr>\n",
              "      <th>1</th>\n",
              "      <td>49</td>\n",
              "      <td>F</td>\n",
              "      <td>NAP</td>\n",
              "      <td>160</td>\n",
              "      <td>0</td>\n",
              "      <td>Normal</td>\n",
              "      <td>156</td>\n",
              "      <td>N</td>\n",
              "      <td>1.0</td>\n",
              "      <td>Flat</td>\n",
              "      <td>1</td>\n",
              "    </tr>\n",
              "    <tr>\n",
              "      <th>2</th>\n",
              "      <td>37</td>\n",
              "      <td>M</td>\n",
              "      <td>ATA</td>\n",
              "      <td>130</td>\n",
              "      <td>0</td>\n",
              "      <td>ST</td>\n",
              "      <td>98</td>\n",
              "      <td>N</td>\n",
              "      <td>0.0</td>\n",
              "      <td>Up</td>\n",
              "      <td>0</td>\n",
              "    </tr>\n",
              "    <tr>\n",
              "      <th>3</th>\n",
              "      <td>48</td>\n",
              "      <td>F</td>\n",
              "      <td>ASY</td>\n",
              "      <td>138</td>\n",
              "      <td>0</td>\n",
              "      <td>Normal</td>\n",
              "      <td>108</td>\n",
              "      <td>Y</td>\n",
              "      <td>1.5</td>\n",
              "      <td>Flat</td>\n",
              "      <td>1</td>\n",
              "    </tr>\n",
              "    <tr>\n",
              "      <th>4</th>\n",
              "      <td>54</td>\n",
              "      <td>M</td>\n",
              "      <td>NAP</td>\n",
              "      <td>150</td>\n",
              "      <td>0</td>\n",
              "      <td>Normal</td>\n",
              "      <td>122</td>\n",
              "      <td>N</td>\n",
              "      <td>0.0</td>\n",
              "      <td>Up</td>\n",
              "      <td>0</td>\n",
              "    </tr>\n",
              "  </tbody>\n",
              "</table>\n",
              "</div>"
            ],
            "text/plain": [
              "   Age Sex ChestPainType  ...  Oldpeak  ST_Slope HeartDisease\n",
              "0   40   M           ATA  ...      0.0        Up            0\n",
              "1   49   F           NAP  ...      1.0      Flat            1\n",
              "2   37   M           ATA  ...      0.0        Up            0\n",
              "3   48   F           ASY  ...      1.5      Flat            1\n",
              "4   54   M           NAP  ...      0.0        Up            0\n",
              "\n",
              "[5 rows x 11 columns]"
            ]
          },
          "metadata": {},
          "execution_count": 129
        }
      ]
    },
    {
      "cell_type": "code",
      "metadata": {
        "id": "lntXgsR8fupE",
        "outputId": "cc4529b2-a1e8-4550-e853-38f4014785a3",
        "colab": {
          "base_uri": "https://localhost:8080/",
          "height": 142
        }
      },
      "source": [
        "total_maxHr = df.groupby('HeartDisease')[['MaxHR']].mean()\n",
        "total_maxHr = total_maxHr.sort_values(by = 'MaxHR')\n",
        "total_maxHr"
      ],
      "execution_count": 205,
      "outputs": [
        {
          "output_type": "execute_result",
          "data": {
            "text/html": [
              "<div>\n",
              "<style scoped>\n",
              "    .dataframe tbody tr th:only-of-type {\n",
              "        vertical-align: middle;\n",
              "    }\n",
              "\n",
              "    .dataframe tbody tr th {\n",
              "        vertical-align: top;\n",
              "    }\n",
              "\n",
              "    .dataframe thead th {\n",
              "        text-align: right;\n",
              "    }\n",
              "</style>\n",
              "<table border=\"1\" class=\"dataframe\">\n",
              "  <thead>\n",
              "    <tr style=\"text-align: right;\">\n",
              "      <th></th>\n",
              "      <th>MaxHR</th>\n",
              "    </tr>\n",
              "    <tr>\n",
              "      <th>HeartDisease</th>\n",
              "      <th></th>\n",
              "    </tr>\n",
              "  </thead>\n",
              "  <tbody>\n",
              "    <tr>\n",
              "      <th>1</th>\n",
              "      <td>127.601578</td>\n",
              "    </tr>\n",
              "    <tr>\n",
              "      <th>0</th>\n",
              "      <td>148.151220</td>\n",
              "    </tr>\n",
              "  </tbody>\n",
              "</table>\n",
              "</div>"
            ],
            "text/plain": [
              "                   MaxHR\n",
              "HeartDisease            \n",
              "1             127.601578\n",
              "0             148.151220"
            ]
          },
          "metadata": {},
          "execution_count": 205
        }
      ]
    },
    {
      "cell_type": "code",
      "metadata": {
        "id": "-CbTBWNLf2bY",
        "outputId": "22c8ca3f-64a6-46f9-fdbb-bbc0e4535619",
        "colab": {
          "base_uri": "https://localhost:8080/",
          "height": 350
        }
      },
      "source": [
        "plt.figure(figsize = (12, 5))\n",
        "\n",
        "plt.barh(total_maxHr.index, total_maxHr['MaxHR'],\n",
        "         color = ['grey', 'red'])\n",
        "\n",
        "plt.xlabel('Average Max Heart Rate')\n",
        "plt.title('Max Heart Rate of Heart Disease vs No Heart Disease');"
      ],
      "execution_count": 209,
      "outputs": [
        {
          "output_type": "display_data",
          "data": {
            "image/png": "[encoded data removed]",
            "text/plain": [
              "<Figure size 864x360 with 1 Axes>"
            ]
          },
          "metadata": {
            "needs_background": "light"
          }
        }
      ]
    },
    {
      "cell_type": "code",
      "metadata": {
        "id": "dgKq0sOKZ5rf",
        "outputId": "56404c44-067d-455f-e04c-bff5e0cd11c9",
        "colab": {
          "base_uri": "https://localhost:8080/",
          "height": 142
        }
      },
      "source": [
        "total_MaxHr = df.groupby('Sex')[['MaxHR']].mean()\n",
        "total_MaxHr = total_MaxHr.sort_values(by = 'MaxHR')\n",
        "total_MaxHr"
      ],
      "execution_count": 196,
      "outputs": [
        {
          "output_type": "execute_result",
          "data": {
            "text/html": [
              "<div>\n",
              "<style scoped>\n",
              "    .dataframe tbody tr th:only-of-type {\n",
              "        vertical-align: middle;\n",
              "    }\n",
              "\n",
              "    .dataframe tbody tr th {\n",
              "        vertical-align: top;\n",
              "    }\n",
              "\n",
              "    .dataframe thead th {\n",
              "        text-align: right;\n",
              "    }\n",
              "</style>\n",
              "<table border=\"1\" class=\"dataframe\">\n",
              "  <thead>\n",
              "    <tr style=\"text-align: right;\">\n",
              "      <th></th>\n",
              "      <th>MaxHR</th>\n",
              "    </tr>\n",
              "    <tr>\n",
              "      <th>Sex</th>\n",
              "      <th></th>\n",
              "    </tr>\n",
              "  </thead>\n",
              "  <tbody>\n",
              "    <tr>\n",
              "      <th>M</th>\n",
              "      <td>134.296961</td>\n",
              "    </tr>\n",
              "    <tr>\n",
              "      <th>F</th>\n",
              "      <td>146.139896</td>\n",
              "    </tr>\n",
              "  </tbody>\n",
              "</table>\n",
              "</div>"
            ],
            "text/plain": [
              "          MaxHR\n",
              "Sex            \n",
              "M    134.296961\n",
              "F    146.139896"
            ]
          },
          "metadata": {},
          "execution_count": 196
        }
      ]
    },
    {
      "cell_type": "code",
      "metadata": {
        "id": "QpfFZvjvapKk",
        "outputId": "f483ed8d-9829-430b-cf87-5552c311986d",
        "colab": {
          "base_uri": "https://localhost:8080/",
          "height": 350
        }
      },
      "source": [
        "plt.figure(figsize = (12, 5))\n",
        "\n",
        "plt.barh(total_MaxHr.index, total_MaxHr['MaxHR'],\n",
        "         color = ['grey', 'red'])\n",
        "\n",
        "plt.xlabel('Average Max Heart Rate')\n",
        "plt.title('Max Heart Rate of Males vs Females');"
      ],
      "execution_count": 208,
      "outputs": [
        {
          "output_type": "display_data",
          "data": {
            "image/png": "[encoded data removed]",
            "text/plain": [
              "<Figure size 864x360 with 1 Axes>"
            ]
          },
          "metadata": {
            "needs_background": "light"
          }
        }
      ]
    },
    {
      "cell_type": "code",
      "metadata": {
        "id": "SEgU1vydfEr-",
        "outputId": "69a41ee5-8e36-4cfc-daa5-6899a4fd37bb",
        "colab": {
          "base_uri": "https://localhost:8080/",
          "height": 142
        }
      },
      "source": [
        "total_oldpeak = df.groupby('HeartDisease')[['Oldpeak']].mean()\n",
        "total_oldpeak = total_oldpeak.sort_values(by = 'Oldpeak')\n",
        "total_oldpeak"
      ],
      "execution_count": 202,
      "outputs": [
        {
          "output_type": "execute_result",
          "data": {
            "text/html": [
              "<div>\n",
              "<style scoped>\n",
              "    .dataframe tbody tr th:only-of-type {\n",
              "        vertical-align: middle;\n",
              "    }\n",
              "\n",
              "    .dataframe tbody tr th {\n",
              "        vertical-align: top;\n",
              "    }\n",
              "\n",
              "    .dataframe thead th {\n",
              "        text-align: right;\n",
              "    }\n",
              "</style>\n",
              "<table border=\"1\" class=\"dataframe\">\n",
              "  <thead>\n",
              "    <tr style=\"text-align: right;\">\n",
              "      <th></th>\n",
              "      <th>Oldpeak</th>\n",
              "    </tr>\n",
              "    <tr>\n",
              "      <th>HeartDisease</th>\n",
              "      <th></th>\n",
              "    </tr>\n",
              "  </thead>\n",
              "  <tbody>\n",
              "    <tr>\n",
              "      <th>0</th>\n",
              "      <td>0.408049</td>\n",
              "    </tr>\n",
              "    <tr>\n",
              "      <th>1</th>\n",
              "      <td>1.273767</td>\n",
              "    </tr>\n",
              "  </tbody>\n",
              "</table>\n",
              "</div>"
            ],
            "text/plain": [
              "               Oldpeak\n",
              "HeartDisease          \n",
              "0             0.408049\n",
              "1             1.273767"
            ]
          },
          "metadata": {},
          "execution_count": 202
        }
      ]
    },
    {
      "cell_type": "code",
      "metadata": {
        "id": "pEZFHysEfQf5",
        "outputId": "2ed0f35a-7076-432d-cbbd-984a20e88894",
        "colab": {
          "base_uri": "https://localhost:8080/",
          "height": 350
        }
      },
      "source": [
        "plt.figure(figsize = (12, 5))\n",
        "\n",
        "plt.barh(total_oldpeak.index, total_oldpeak['Oldpeak'],\n",
        "         color = ['red', 'grey'])\n",
        "\n",
        "plt.xlabel('Average OldPeak')\n",
        "plt.title('OldPeak of Heart Disease vs No Heart Disease');"
      ],
      "execution_count": 204,
      "outputs": [
        {
          "output_type": "display_data",
          "data": {
            "image/png": "[encoded data removed]",
            "text/plain": [
              "<Figure size 864x360 with 1 Axes>"
            ]
          },
          "metadata": {
            "needs_background": "light"
          }
        }
      ]
    },
    {
      "cell_type": "code",
      "metadata": {
        "id": "-0PdMTazcSBH",
        "outputId": "6164aa99-04f4-41b5-e008-dd0c5d0295b2",
        "colab": {
          "base_uri": "https://localhost:8080/",
          "height": 142
        }
      },
      "source": [
        "total_Oldpeak = df.groupby('Sex')[['Oldpeak']].mean()\n",
        "total_Oldpeak = total_Oldpeak.sort_values(by = 'Oldpeak')\n",
        "total_Oldpeak"
      ],
      "execution_count": 198,
      "outputs": [
        {
          "output_type": "execute_result",
          "data": {
            "text/html": [
              "<div>\n",
              "<style scoped>\n",
              "    .dataframe tbody tr th:only-of-type {\n",
              "        vertical-align: middle;\n",
              "    }\n",
              "\n",
              "    .dataframe tbody tr th {\n",
              "        vertical-align: top;\n",
              "    }\n",
              "\n",
              "    .dataframe thead th {\n",
              "        text-align: right;\n",
              "    }\n",
              "</style>\n",
              "<table border=\"1\" class=\"dataframe\">\n",
              "  <thead>\n",
              "    <tr style=\"text-align: right;\">\n",
              "      <th></th>\n",
              "      <th>Oldpeak</th>\n",
              "    </tr>\n",
              "    <tr>\n",
              "      <th>Sex</th>\n",
              "      <th></th>\n",
              "    </tr>\n",
              "  </thead>\n",
              "  <tbody>\n",
              "    <tr>\n",
              "      <th>F</th>\n",
              "      <td>0.668912</td>\n",
              "    </tr>\n",
              "    <tr>\n",
              "      <th>M</th>\n",
              "      <td>0.944751</td>\n",
              "    </tr>\n",
              "  </tbody>\n",
              "</table>\n",
              "</div>"
            ],
            "text/plain": [
              "      Oldpeak\n",
              "Sex          \n",
              "F    0.668912\n",
              "M    0.944751"
            ]
          },
          "metadata": {},
          "execution_count": 198
        }
      ]
    },
    {
      "cell_type": "code",
      "metadata": {
        "id": "rx_bnVnOcNgs",
        "outputId": "bd087deb-e8ee-4c73-a873-bcd7212e41c7",
        "colab": {
          "base_uri": "https://localhost:8080/",
          "height": 350
        }
      },
      "source": [
        "plt.figure(figsize = (12, 5))\n",
        "\n",
        "plt.barh(total_Oldpeak.index, total_Oldpeak['Oldpeak'],\n",
        "         color = ['red', 'grey'])\n",
        "\n",
        "plt.xlabel('Average OldPeak')\n",
        "plt.title('OldPeak of Males vs Females');"
      ],
      "execution_count": 199,
      "outputs": [
        {
          "output_type": "display_data",
          "data": {
            "image/png": "[encoded data removed]",
            "text/plain": [
              "<Figure size 864x360 with 1 Axes>"
            ]
          },
          "metadata": {
            "needs_background": "light"
          }
        }
      ]
    }
  ]
}